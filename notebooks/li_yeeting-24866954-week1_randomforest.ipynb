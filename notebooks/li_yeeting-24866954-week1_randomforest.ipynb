{
 "cells": [
  {
   "cell_type": "markdown",
   "id": "07adde8f-81c7-412b-b720-85c6eb1727d8",
   "metadata": {},
   "source": [
    "### 1. Load the dataset"
   ]
  },
  {
   "cell_type": "markdown",
   "id": "d1812382-d954-43f7-8ac3-dea239dca5d8",
   "metadata": {},
   "source": [
    "**[1.1] Automatic reload modules**"
   ]
  },
  {
   "cell_type": "code",
   "execution_count": 208,
   "id": "cb4a1604-6483-4e56-8a83-a188535cfa04",
   "metadata": {},
   "outputs": [
    {
     "name": "stdout",
     "output_type": "stream",
     "text": [
      "The autoreload extension is already loaded. To reload it, use:\n",
      "  %reload_ext autoreload\n"
     ]
    }
   ],
   "source": [
    "%load_ext autoreload\n",
    "%autoreload 2"
   ]
  },
  {
   "cell_type": "markdown",
   "id": "c8643bab-00cb-46ef-b895-e04ec0154cae",
   "metadata": {},
   "source": [
    "**[1.2] Import packages**"
   ]
  },
  {
   "cell_type": "code",
   "execution_count": 209,
   "id": "79ee2d87-6733-4192-8aa6-7465c59cdadc",
   "metadata": {},
   "outputs": [],
   "source": [
    "import pandas as pd\n",
    "import numpy as np\n",
    "import matplotlib.pyplot as plt\n",
    "import seaborn as sns"
   ]
  },
  {
   "cell_type": "markdown",
   "id": "f54e880b-ec22-4a5f-b48c-466901e1105c",
   "metadata": {},
   "source": [
    "**[1.3] Load the datasets**"
   ]
  },
  {
   "cell_type": "code",
   "execution_count": 210,
   "id": "2a8f5642-5455-4075-b8ec-5a005ec625aa",
   "metadata": {},
   "outputs": [],
   "source": [
    "df_train = pd.read_csv('../data/raw/train.csv', low_memory=False)\n",
    "df_test = pd.read_csv('../data/raw/test.csv', low_memory=False)"
   ]
  },
  {
   "cell_type": "markdown",
   "id": "91a7f16a-09ca-4e53-ae6c-6d73672482ef",
   "metadata": {},
   "source": [
    "### 2. Explore the data"
   ]
  },
  {
   "cell_type": "markdown",
   "id": "4af2a018",
   "metadata": {},
   "source": [
    "**[2.1] Display all columns and rows in dataframe**"
   ]
  },
  {
   "cell_type": "code",
   "execution_count": 211,
   "id": "3a18bef9",
   "metadata": {},
   "outputs": [],
   "source": [
    "pd.set_option('display.max_columns', None)\n",
    "pd.set_option('display.max_rows', None)"
   ]
  },
  {
   "cell_type": "markdown",
   "id": "06d0cdcf-c9d1-47ae-8570-3b1831f4235f",
   "metadata": {},
   "source": [
    "**[2.2] Summary statstics**"
   ]
  },
  {
   "cell_type": "code",
   "execution_count": 212,
   "id": "7dc442b8-01ec-4ec8-9651-ebff25a41b1f",
   "metadata": {},
   "outputs": [],
   "source": [
    "# !pip install jupyter-summarytools"
   ]
  },
  {
   "cell_type": "code",
   "execution_count": 213,
   "id": "053d188a-fdaa-4386-b593-ef5be92c262f",
   "metadata": {},
   "outputs": [],
   "source": [
    "# from summarytools import dfSummary\n",
    "# dfSummary(df_train)"
   ]
  },
  {
   "cell_type": "markdown",
   "id": "e9b00ac1-faea-46aa-9c5c-8f2b6e177f24",
   "metadata": {},
   "source": [
    "**[2.3] Remove unclear/ invalid attributes**"
   ]
  },
  {
   "cell_type": "markdown",
   "id": "f3364ee5-554b-4b77-ab8b-e156fa85ed79",
   "metadata": {},
   "source": [
    "* Since definitions of \"ftr\" and \"pfr\" are unclear, the attributes will be eliminated from the analysis. 'ht' consists of multiple invalid values, the variable will also be removed. The high cardinality involved in 'num' will be removed."
   ]
  },
  {
   "cell_type": "code",
   "execution_count": 214,
   "id": "d3f845a7-c49f-4e6d-8b23-eb9583345d26",
   "metadata": {},
   "outputs": [],
   "source": [
    "df_train = df_train.drop(['ftr', 'pfr', 'num', 'ht'], axis=1).reset_index(drop=True)\n",
    "df_test = df_test.drop(['ftr', 'pfr', 'num', 'ht'], axis=1).reset_index(drop=True)"
   ]
  },
  {
   "cell_type": "markdown",
   "id": "543b1e55-cde3-45d1-8ec7-40dd7cbfcb98",
   "metadata": {},
   "source": [
    "**Save a copy of data before cleaning**"
   ]
  },
  {
   "cell_type": "code",
   "execution_count": 215,
   "id": "7a2d0380-bb12-4f88-8ba7-38755906b566",
   "metadata": {},
   "outputs": [],
   "source": [
    "df_train2 = df_train.copy()\n",
    "df_test2 = df_test.copy()"
   ]
  },
  {
   "cell_type": "markdown",
   "id": "44cd5bb9-31b3-4e4e-8874-d4144d07d150",
   "metadata": {},
   "source": [
    "**[2.4] Handle missing values**"
   ]
  },
  {
   "cell_type": "code",
   "execution_count": 216,
   "id": "cae4dc6e-4272-470e-be3a-eda8f76abcf4",
   "metadata": {},
   "outputs": [],
   "source": [
    "# #Visualize by heatmap\n",
    "# plt.figure(figsize=(10,6))\n",
    "# sns.heatmap(df_train2.isnull(), yticklabels=False, xticklabels=True, cbar=False, cmap='plasma')\n",
    "# plt.xticks(rotation=90)\n",
    "# plt.title('Missing values heatmap', size=14, color='grey')\n",
    "# plt.tight_layout()\n",
    "# plt.show()"
   ]
  },
  {
   "cell_type": "code",
   "execution_count": 217,
   "id": "31e03d41-f8fb-4942-9d1f-18535a2c8f9a",
   "metadata": {},
   "outputs": [],
   "source": [
    "# #Count missing values\n",
    "# num=df_train2.select_dtypes(include = np.number).columns\n",
    "# num2=df_test2.select_dtypes(include = np.number).columns\n",
    "\n",
    "# cnt = df_train2[num].isna().sum()\n",
    "# per = ((cnt/df_train2.shape[0])*100).round(4)\n",
    "\n",
    "# cnt2 = df_test2[num2].isna().sum()\n",
    "# per2 = ((cnt2/df_test2.shape[0])*100).round(4)\n",
    "\n",
    "# missing_cnt = pd.concat([per, per2], axis=1, keys=['Missing_Percent__train', 'Missing_Percent__test'])\n",
    "# missing_cnt.sort_values(['Missing_Percent__train', 'Missing_Percent__test'], ascending=False)"
   ]
  },
  {
   "cell_type": "markdown",
   "id": "7c189846-fceb-4154-b274-f2f3dbf05822",
   "metadata": {},
   "source": [
    "* Since attributes dunks_ratio contain over 50% of missing values, the entire column will be dropped to avoid inappropriate imputation. Regarding pick and Rec_Rank, these features would be significant predictors. They will be replaced with zero and created binary features to distinguish."
   ]
  },
  {
   "cell_type": "code",
   "execution_count": 218,
   "id": "a2f8caff-e389-452e-bd11-846d781d01d2",
   "metadata": {},
   "outputs": [],
   "source": [
    "df_train2 = df_train2.drop(['dunks_ratio'], axis=1)\n",
    "df_test2 = df_test2.drop(['dunks_ratio'], axis=1)"
   ]
  },
  {
   "cell_type": "markdown",
   "id": "53d3900f-7e9c-4dca-bc9e-7af96341fff6",
   "metadata": {},
   "source": [
    "**Pick and Rec_Rank - fill missing values and create encoded features**"
   ]
  },
  {
   "cell_type": "code",
   "execution_count": 219,
   "id": "3d139390-8840-429c-baf6-9a33e17ddcee",
   "metadata": {},
   "outputs": [],
   "source": [
    "df_train2['pick'] = df_train2['pick'].fillna(0)\n",
    "df_test2['pick'] = df_test2['pick'].fillna(0)\n",
    "\n",
    "df_train2['Rec_Rank'] = df_train2['Rec_Rank'].fillna(0)\n",
    "df_test2['Rec_Rank'] = df_test2['Rec_Rank'].fillna(0)\n",
    "\n",
    "\n",
    "df_train2['Picked'] = (df_train2['pick'] > 0).astype(int)\n",
    "df_test2['Picked'] = (df_test2['pick'] > 0).astype(int)\n",
    "\n",
    "df_train2['Recruited'] = (df_train2['Rec_Rank'] > 0).astype(int)\n",
    "df_test2['Recruited'] = (df_test2['Rec_Rank'] > 0).astype(int)\n"
   ]
  },
  {
   "cell_type": "markdown",
   "id": "ce50d3db-a60a-4caa-8a4d-dd8ba4e6dbf1",
   "metadata": {},
   "source": [
    "* As some of the variables are right-skewed, the missing values will be replaced with the median."
   ]
  },
  {
   "cell_type": "markdown",
   "id": "356a0537-adcc-4bdb-be9d-632bc906702a",
   "metadata": {},
   "source": [
    "**Fill missing values with median**"
   ]
  },
  {
   "cell_type": "code",
   "execution_count": 220,
   "id": "95851b07-dd78-4d57-9d85-ce3aa0d57e9a",
   "metadata": {},
   "outputs": [],
   "source": [
    "for col in df_train2.select_dtypes(include=np.number).columns:\n",
    "    df_train2[col] = df_train2[col].fillna(df_train2[col].median())\n",
    "\n",
    "for col in df_test2.select_dtypes(include=np.number).columns:\n",
    "    df_test2[col] = df_test2[col].fillna(df_test2[col].median())\n"
   ]
  },
  {
   "cell_type": "markdown",
   "id": "d1c2594a-04c7-4358-94d0-4b4256239e58",
   "metadata": {},
   "source": [
    "**Check if missing values are addressed**"
   ]
  },
  {
   "cell_type": "code",
   "execution_count": 221,
   "id": "fbd71118-d9d1-4bef-b265-816e8b77e63b",
   "metadata": {},
   "outputs": [
    {
     "data": {
      "text/html": [
       "<div>\n",
       "<style scoped>\n",
       "    .dataframe tbody tr th:only-of-type {\n",
       "        vertical-align: middle;\n",
       "    }\n",
       "\n",
       "    .dataframe tbody tr th {\n",
       "        vertical-align: top;\n",
       "    }\n",
       "\n",
       "    .dataframe thead th {\n",
       "        text-align: right;\n",
       "    }\n",
       "</style>\n",
       "<table border=\"1\" class=\"dataframe\">\n",
       "  <thead>\n",
       "    <tr style=\"text-align: right;\">\n",
       "      <th></th>\n",
       "      <th>Missing_Percent__train</th>\n",
       "      <th>Missing_Percent__test</th>\n",
       "    </tr>\n",
       "  </thead>\n",
       "  <tbody>\n",
       "  </tbody>\n",
       "</table>\n",
       "</div>"
      ],
      "text/plain": [
       "Empty DataFrame\n",
       "Columns: [Missing_Percent__train, Missing_Percent__test]\n",
       "Index: []"
      ]
     },
     "execution_count": 221,
     "metadata": {},
     "output_type": "execute_result"
    }
   ],
   "source": [
    "num=df_train2.select_dtypes(include = np.number).columns\n",
    "num2=df_test2.select_dtypes(include = np.number).columns\n",
    "\n",
    "cnt = df_train2[num].isna().sum()\n",
    "per = ((cnt/df_train2.shape[0])*100).round(4)\n",
    "\n",
    "cnt2 = df_test2[num2].isna().sum()\n",
    "per2 = ((cnt2/df_test2.shape[0])*100).round(4)\n",
    "\n",
    "missing_cnt = pd.concat([per, per2], axis=1, keys=['Missing_Percent__train', 'Missing_Percent__test'])\n",
    "missing_cnt.sort_values(['Missing_Percent__train', 'Missing_Percent__test'], ascending=False)\n",
    "missing_cnt[missing_cnt['Missing_Percent__train']>0]"
   ]
  },
  {
   "cell_type": "markdown",
   "id": "a71e60e8-c6eb-4ef8-ba7f-405756a305cb",
   "metadata": {},
   "source": [
    "**[2.5] Handling outliers**"
   ]
  },
  {
   "cell_type": "markdown",
   "id": "95c67c93-90ae-47d5-9879-3013c26ca926",
   "metadata": {},
   "source": [
    "**Use boxplots to detect outliers**"
   ]
  },
  {
   "cell_type": "code",
   "execution_count": 222,
   "id": "489b93bc-a2e2-47a3-a99d-dbbcb6265ef0",
   "metadata": {},
   "outputs": [
    {
     "data": {
      "image/png": "[encoded data removed]",
      "text/plain": [
       "<Figure size 2000x1500 with 6 Axes>"
      ]
     },
     "metadata": {},
     "output_type": "display_data"
    }
   ],
   "source": [
    "#Iterate the list of variables to plot boxplots\n",
    "numvar = df_train2.select_dtypes(include = np.number).columns\n",
    "var_range = [(0, 8), (9, 18), (19, 28), (29, 38), (39, 48), (49, 60)]\n",
    "\n",
    "fig, axes = plt.subplots(3, 2, figsize=(20,15))\n",
    "\n",
    "for i, (a,b) in enumerate(var_range):\n",
    "    var = numvar[a:b]\n",
    "    data = [df_train2[col].dropna().values for col in var]\n",
    "    ax = axes[i//2, i%2]\n",
    "    ax.boxplot(data, vert=False, tick_labels=var)\n",
    "\n",
    "fig.suptitle(f'Boxplot of variables (Train set)', size=20)\n",
    "fig.supxlabel('Values')\n",
    "fig.supylabel('Variables')\n",
    "plt.tight_layout()\n",
    "# plt.savefig('outlier.png')\n",
    "plt.show()\n"
   ]
  },
  {
   "cell_type": "markdown",
   "id": "c21158a5-9f94-4a55-a2c9-ca5805bf3259",
   "metadata": {},
   "source": [
    "* Obviously, outliers are detected across multiple variables. Extreme outliers will highly distort the model performance and predictability, therefore they will be addressed by IQR method."
   ]
  },
  {
   "cell_type": "markdown",
   "id": "b7d3338a-749a-4887-97d9-9ee5818612ce",
   "metadata": {},
   "source": [
    "**Handling Outliers with IQR method**"
   ]
  },
  {
   "cell_type": "code",
   "execution_count": 223,
   "id": "df3df3c3-0060-4464-99f8-6198e249bc25",
   "metadata": {},
   "outputs": [
    {
     "data": {
      "text/html": [
       "<div>\n",
       "<style scoped>\n",
       "    .dataframe tbody tr th:only-of-type {\n",
       "        vertical-align: middle;\n",
       "    }\n",
       "\n",
       "    .dataframe tbody tr th {\n",
       "        vertical-align: top;\n",
       "    }\n",
       "\n",
       "    .dataframe thead th {\n",
       "        text-align: right;\n",
       "    }\n",
       "</style>\n",
       "<table border=\"1\" class=\"dataframe\">\n",
       "  <thead>\n",
       "    <tr style=\"text-align: right;\">\n",
       "      <th></th>\n",
       "      <th>team</th>\n",
       "      <th>conf</th>\n",
       "      <th>GP</th>\n",
       "      <th>Min_per</th>\n",
       "      <th>Ortg</th>\n",
       "      <th>usg</th>\n",
       "      <th>eFG</th>\n",
       "      <th>TS_per</th>\n",
       "      <th>ORB_per</th>\n",
       "      <th>DRB_per</th>\n",
       "      <th>AST_per</th>\n",
       "      <th>TO_per</th>\n",
       "      <th>FTM</th>\n",
       "      <th>FTA</th>\n",
       "      <th>FT_per</th>\n",
       "      <th>twoPM</th>\n",
       "      <th>twoPA</th>\n",
       "      <th>twoP_per</th>\n",
       "      <th>TPM</th>\n",
       "      <th>TPA</th>\n",
       "      <th>TP_per</th>\n",
       "      <th>blk_per</th>\n",
       "      <th>stl_per</th>\n",
       "      <th>yr</th>\n",
       "      <th>porpag</th>\n",
       "      <th>adjoe</th>\n",
       "      <th>year</th>\n",
       "      <th>type</th>\n",
       "      <th>Rec_Rank</th>\n",
       "      <th>ast_tov</th>\n",
       "      <th>rimmade</th>\n",
       "      <th>rimmade_rimmiss</th>\n",
       "      <th>midmade</th>\n",
       "      <th>midmade_midmiss</th>\n",
       "      <th>rim_ratio</th>\n",
       "      <th>mid_ratio</th>\n",
       "      <th>dunksmade</th>\n",
       "      <th>dunksmiss_dunksmade</th>\n",
       "      <th>pick</th>\n",
       "      <th>drtg</th>\n",
       "      <th>adrtg</th>\n",
       "      <th>dporpag</th>\n",
       "      <th>stops</th>\n",
       "      <th>bpm</th>\n",
       "      <th>obpm</th>\n",
       "      <th>dbpm</th>\n",
       "      <th>gbpm</th>\n",
       "      <th>mp</th>\n",
       "      <th>ogbpm</th>\n",
       "      <th>dgbpm</th>\n",
       "      <th>oreb</th>\n",
       "      <th>dreb</th>\n",
       "      <th>treb</th>\n",
       "      <th>ast</th>\n",
       "      <th>stl</th>\n",
       "      <th>blk</th>\n",
       "      <th>pts</th>\n",
       "      <th>player_id</th>\n",
       "      <th>drafted</th>\n",
       "      <th>Picked</th>\n",
       "      <th>Recruited</th>\n",
       "    </tr>\n",
       "  </thead>\n",
       "  <tbody>\n",
       "    <tr>\n",
       "      <th>count</th>\n",
       "      <td>41276</td>\n",
       "      <td>41276</td>\n",
       "      <td>41276.000000</td>\n",
       "      <td>41276.000000</td>\n",
       "      <td>41276.00000</td>\n",
       "      <td>41276.000000</td>\n",
       "      <td>41276.000000</td>\n",
       "      <td>41276.000000</td>\n",
       "      <td>41276.000000</td>\n",
       "      <td>41276.000000</td>\n",
       "      <td>41276.000000</td>\n",
       "      <td>41276.000000</td>\n",
       "      <td>41276.000000</td>\n",
       "      <td>41276.000000</td>\n",
       "      <td>41276.000000</td>\n",
       "      <td>41276.000000</td>\n",
       "      <td>41276.000000</td>\n",
       "      <td>41276.000000</td>\n",
       "      <td>41276.000000</td>\n",
       "      <td>41276.000000</td>\n",
       "      <td>41276.000000</td>\n",
       "      <td>41276.000000</td>\n",
       "      <td>41276.000000</td>\n",
       "      <td>41062</td>\n",
       "      <td>41276.000000</td>\n",
       "      <td>41276.000000</td>\n",
       "      <td>41276.000000</td>\n",
       "      <td>41276</td>\n",
       "      <td>41276.000000</td>\n",
       "      <td>41276.000000</td>\n",
       "      <td>41276.000000</td>\n",
       "      <td>41276.000000</td>\n",
       "      <td>41276.000000</td>\n",
       "      <td>41276.000000</td>\n",
       "      <td>41276.000000</td>\n",
       "      <td>41276.000000</td>\n",
       "      <td>41276.000000</td>\n",
       "      <td>41276.000000</td>\n",
       "      <td>41276.000000</td>\n",
       "      <td>41276.000000</td>\n",
       "      <td>41276.000000</td>\n",
       "      <td>41276.000000</td>\n",
       "      <td>41276.000000</td>\n",
       "      <td>41276.000000</td>\n",
       "      <td>41276.000000</td>\n",
       "      <td>41276.000000</td>\n",
       "      <td>41276.000000</td>\n",
       "      <td>41276.000000</td>\n",
       "      <td>41276.000000</td>\n",
       "      <td>41276.000000</td>\n",
       "      <td>41276.000000</td>\n",
       "      <td>41276.000000</td>\n",
       "      <td>41276.000000</td>\n",
       "      <td>41276.000000</td>\n",
       "      <td>41276.000000</td>\n",
       "      <td>41276.000000</td>\n",
       "      <td>41276.000000</td>\n",
       "      <td>41276</td>\n",
       "      <td>41276.000000</td>\n",
       "      <td>41276.000000</td>\n",
       "      <td>41276.000000</td>\n",
       "    </tr>\n",
       "    <tr>\n",
       "      <th>unique</th>\n",
       "      <td>355</td>\n",
       "      <td>36</td>\n",
       "      <td>NaN</td>\n",
       "      <td>NaN</td>\n",
       "      <td>NaN</td>\n",
       "      <td>NaN</td>\n",
       "      <td>NaN</td>\n",
       "      <td>NaN</td>\n",
       "      <td>NaN</td>\n",
       "      <td>NaN</td>\n",
       "      <td>NaN</td>\n",
       "      <td>NaN</td>\n",
       "      <td>NaN</td>\n",
       "      <td>NaN</td>\n",
       "      <td>NaN</td>\n",
       "      <td>NaN</td>\n",
       "      <td>NaN</td>\n",
       "      <td>NaN</td>\n",
       "      <td>NaN</td>\n",
       "      <td>NaN</td>\n",
       "      <td>NaN</td>\n",
       "      <td>NaN</td>\n",
       "      <td>NaN</td>\n",
       "      <td>7</td>\n",
       "      <td>NaN</td>\n",
       "      <td>NaN</td>\n",
       "      <td>NaN</td>\n",
       "      <td>1</td>\n",
       "      <td>NaN</td>\n",
       "      <td>NaN</td>\n",
       "      <td>NaN</td>\n",
       "      <td>NaN</td>\n",
       "      <td>NaN</td>\n",
       "      <td>NaN</td>\n",
       "      <td>NaN</td>\n",
       "      <td>NaN</td>\n",
       "      <td>NaN</td>\n",
       "      <td>NaN</td>\n",
       "      <td>NaN</td>\n",
       "      <td>NaN</td>\n",
       "      <td>NaN</td>\n",
       "      <td>NaN</td>\n",
       "      <td>NaN</td>\n",
       "      <td>NaN</td>\n",
       "      <td>NaN</td>\n",
       "      <td>NaN</td>\n",
       "      <td>NaN</td>\n",
       "      <td>NaN</td>\n",
       "      <td>NaN</td>\n",
       "      <td>NaN</td>\n",
       "      <td>NaN</td>\n",
       "      <td>NaN</td>\n",
       "      <td>NaN</td>\n",
       "      <td>NaN</td>\n",
       "      <td>NaN</td>\n",
       "      <td>NaN</td>\n",
       "      <td>NaN</td>\n",
       "      <td>18814</td>\n",
       "      <td>NaN</td>\n",
       "      <td>NaN</td>\n",
       "      <td>NaN</td>\n",
       "    </tr>\n",
       "    <tr>\n",
       "      <th>top</th>\n",
       "      <td>Penn</td>\n",
       "      <td>A10</td>\n",
       "      <td>NaN</td>\n",
       "      <td>NaN</td>\n",
       "      <td>NaN</td>\n",
       "      <td>NaN</td>\n",
       "      <td>NaN</td>\n",
       "      <td>NaN</td>\n",
       "      <td>NaN</td>\n",
       "      <td>NaN</td>\n",
       "      <td>NaN</td>\n",
       "      <td>NaN</td>\n",
       "      <td>NaN</td>\n",
       "      <td>NaN</td>\n",
       "      <td>NaN</td>\n",
       "      <td>NaN</td>\n",
       "      <td>NaN</td>\n",
       "      <td>NaN</td>\n",
       "      <td>NaN</td>\n",
       "      <td>NaN</td>\n",
       "      <td>NaN</td>\n",
       "      <td>NaN</td>\n",
       "      <td>NaN</td>\n",
       "      <td>Jr</td>\n",
       "      <td>NaN</td>\n",
       "      <td>NaN</td>\n",
       "      <td>NaN</td>\n",
       "      <td>all</td>\n",
       "      <td>NaN</td>\n",
       "      <td>NaN</td>\n",
       "      <td>NaN</td>\n",
       "      <td>NaN</td>\n",
       "      <td>NaN</td>\n",
       "      <td>NaN</td>\n",
       "      <td>NaN</td>\n",
       "      <td>NaN</td>\n",
       "      <td>NaN</td>\n",
       "      <td>NaN</td>\n",
       "      <td>NaN</td>\n",
       "      <td>NaN</td>\n",
       "      <td>NaN</td>\n",
       "      <td>NaN</td>\n",
       "      <td>NaN</td>\n",
       "      <td>NaN</td>\n",
       "      <td>NaN</td>\n",
       "      <td>NaN</td>\n",
       "      <td>NaN</td>\n",
       "      <td>NaN</td>\n",
       "      <td>NaN</td>\n",
       "      <td>NaN</td>\n",
       "      <td>NaN</td>\n",
       "      <td>NaN</td>\n",
       "      <td>NaN</td>\n",
       "      <td>NaN</td>\n",
       "      <td>NaN</td>\n",
       "      <td>NaN</td>\n",
       "      <td>NaN</td>\n",
       "      <td>c6a43e58-d8ad-478f-bbc0-dbc880e29142</td>\n",
       "      <td>NaN</td>\n",
       "      <td>NaN</td>\n",
       "      <td>NaN</td>\n",
       "    </tr>\n",
       "    <tr>\n",
       "      <th>freq</th>\n",
       "      <td>154</td>\n",
       "      <td>1616</td>\n",
       "      <td>NaN</td>\n",
       "      <td>NaN</td>\n",
       "      <td>NaN</td>\n",
       "      <td>NaN</td>\n",
       "      <td>NaN</td>\n",
       "      <td>NaN</td>\n",
       "      <td>NaN</td>\n",
       "      <td>NaN</td>\n",
       "      <td>NaN</td>\n",
       "      <td>NaN</td>\n",
       "      <td>NaN</td>\n",
       "      <td>NaN</td>\n",
       "      <td>NaN</td>\n",
       "      <td>NaN</td>\n",
       "      <td>NaN</td>\n",
       "      <td>NaN</td>\n",
       "      <td>NaN</td>\n",
       "      <td>NaN</td>\n",
       "      <td>NaN</td>\n",
       "      <td>NaN</td>\n",
       "      <td>NaN</td>\n",
       "      <td>11092</td>\n",
       "      <td>NaN</td>\n",
       "      <td>NaN</td>\n",
       "      <td>NaN</td>\n",
       "      <td>41276</td>\n",
       "      <td>NaN</td>\n",
       "      <td>NaN</td>\n",
       "      <td>NaN</td>\n",
       "      <td>NaN</td>\n",
       "      <td>NaN</td>\n",
       "      <td>NaN</td>\n",
       "      <td>NaN</td>\n",
       "      <td>NaN</td>\n",
       "      <td>NaN</td>\n",
       "      <td>NaN</td>\n",
       "      <td>NaN</td>\n",
       "      <td>NaN</td>\n",
       "      <td>NaN</td>\n",
       "      <td>NaN</td>\n",
       "      <td>NaN</td>\n",
       "      <td>NaN</td>\n",
       "      <td>NaN</td>\n",
       "      <td>NaN</td>\n",
       "      <td>NaN</td>\n",
       "      <td>NaN</td>\n",
       "      <td>NaN</td>\n",
       "      <td>NaN</td>\n",
       "      <td>NaN</td>\n",
       "      <td>NaN</td>\n",
       "      <td>NaN</td>\n",
       "      <td>NaN</td>\n",
       "      <td>NaN</td>\n",
       "      <td>NaN</td>\n",
       "      <td>NaN</td>\n",
       "      <td>6</td>\n",
       "      <td>NaN</td>\n",
       "      <td>NaN</td>\n",
       "      <td>NaN</td>\n",
       "    </tr>\n",
       "    <tr>\n",
       "      <th>mean</th>\n",
       "      <td>NaN</td>\n",
       "      <td>NaN</td>\n",
       "      <td>24.282392</td>\n",
       "      <td>39.229169</td>\n",
       "      <td>92.44719</td>\n",
       "      <td>18.169634</td>\n",
       "      <td>44.874331</td>\n",
       "      <td>48.106386</td>\n",
       "      <td>4.895230</td>\n",
       "      <td>11.603050</td>\n",
       "      <td>11.441281</td>\n",
       "      <td>20.585721</td>\n",
       "      <td>34.895678</td>\n",
       "      <td>49.601027</td>\n",
       "      <td>0.600705</td>\n",
       "      <td>42.159584</td>\n",
       "      <td>88.224319</td>\n",
       "      <td>0.427657</td>\n",
       "      <td>17.101827</td>\n",
       "      <td>49.501066</td>\n",
       "      <td>0.242245</td>\n",
       "      <td>1.307147</td>\n",
       "      <td>1.687235</td>\n",
       "      <td>NaN</td>\n",
       "      <td>0.813217</td>\n",
       "      <td>89.986361</td>\n",
       "      <td>2013.520738</td>\n",
       "      <td>NaN</td>\n",
       "      <td>16.176756</td>\n",
       "      <td>0.959321</td>\n",
       "      <td>26.576025</td>\n",
       "      <td>45.236578</td>\n",
       "      <td>14.420826</td>\n",
       "      <td>40.909245</td>\n",
       "      <td>0.562844</td>\n",
       "      <td>0.325704</td>\n",
       "      <td>2.819387</td>\n",
       "      <td>3.174750</td>\n",
       "      <td>0.786026</td>\n",
       "      <td>104.245385</td>\n",
       "      <td>104.344978</td>\n",
       "      <td>1.459323</td>\n",
       "      <td>85.145234</td>\n",
       "      <td>-2.575603</td>\n",
       "      <td>-1.679996</td>\n",
       "      <td>-0.895692</td>\n",
       "      <td>-2.596475</td>\n",
       "      <td>17.706624</td>\n",
       "      <td>-1.959332</td>\n",
       "      <td>-0.637230</td>\n",
       "      <td>0.754079</td>\n",
       "      <td>1.874655</td>\n",
       "      <td>2.628795</td>\n",
       "      <td>1.155548</td>\n",
       "      <td>0.556970</td>\n",
       "      <td>0.223855</td>\n",
       "      <td>5.994325</td>\n",
       "      <td>NaN</td>\n",
       "      <td>0.008165</td>\n",
       "      <td>0.023355</td>\n",
       "      <td>0.307539</td>\n",
       "    </tr>\n",
       "    <tr>\n",
       "      <th>std</th>\n",
       "      <td>NaN</td>\n",
       "      <td>NaN</td>\n",
       "      <td>9.511186</td>\n",
       "      <td>27.763210</td>\n",
       "      <td>27.95672</td>\n",
       "      <td>5.865000</td>\n",
       "      <td>16.570441</td>\n",
       "      <td>15.857189</td>\n",
       "      <td>3.810372</td>\n",
       "      <td>5.373759</td>\n",
       "      <td>8.923157</td>\n",
       "      <td>11.379370</td>\n",
       "      <td>37.585701</td>\n",
       "      <td>50.106389</td>\n",
       "      <td>0.253164</td>\n",
       "      <td>42.828758</td>\n",
       "      <td>84.469438</td>\n",
       "      <td>0.177985</td>\n",
       "      <td>22.098891</td>\n",
       "      <td>58.940613</td>\n",
       "      <td>0.183673</td>\n",
       "      <td>1.499922</td>\n",
       "      <td>1.170708</td>\n",
       "      <td>NaN</td>\n",
       "      <td>1.355988</td>\n",
       "      <td>28.553654</td>\n",
       "      <td>2.874594</td>\n",
       "      <td>NaN</td>\n",
       "      <td>28.728715</td>\n",
       "      <td>0.671656</td>\n",
       "      <td>27.369180</td>\n",
       "      <td>43.623728</td>\n",
       "      <td>16.853504</td>\n",
       "      <td>42.708868</td>\n",
       "      <td>0.167651</td>\n",
       "      <td>0.149940</td>\n",
       "      <td>6.341450</td>\n",
       "      <td>6.975851</td>\n",
       "      <td>5.670202</td>\n",
       "      <td>6.279304</td>\n",
       "      <td>7.594576</td>\n",
       "      <td>1.030187</td>\n",
       "      <td>63.433952</td>\n",
       "      <td>5.991332</td>\n",
       "      <td>4.505743</td>\n",
       "      <td>2.648985</td>\n",
       "      <td>7.209597</td>\n",
       "      <td>10.478583</td>\n",
       "      <td>5.495239</td>\n",
       "      <td>2.523313</td>\n",
       "      <td>0.707437</td>\n",
       "      <td>1.400116</td>\n",
       "      <td>1.992482</td>\n",
       "      <td>1.199131</td>\n",
       "      <td>0.472476</td>\n",
       "      <td>0.285047</td>\n",
       "      <td>4.949057</td>\n",
       "      <td>NaN</td>\n",
       "      <td>0.089989</td>\n",
       "      <td>0.151030</td>\n",
       "      <td>0.461480</td>\n",
       "    </tr>\n",
       "    <tr>\n",
       "      <th>min</th>\n",
       "      <td>NaN</td>\n",
       "      <td>NaN</td>\n",
       "      <td>1.000000</td>\n",
       "      <td>0.000000</td>\n",
       "      <td>0.00000</td>\n",
       "      <td>0.000000</td>\n",
       "      <td>0.000000</td>\n",
       "      <td>0.000000</td>\n",
       "      <td>0.000000</td>\n",
       "      <td>0.000000</td>\n",
       "      <td>0.000000</td>\n",
       "      <td>0.000000</td>\n",
       "      <td>0.000000</td>\n",
       "      <td>0.000000</td>\n",
       "      <td>0.000000</td>\n",
       "      <td>0.000000</td>\n",
       "      <td>0.000000</td>\n",
       "      <td>0.000000</td>\n",
       "      <td>0.000000</td>\n",
       "      <td>0.000000</td>\n",
       "      <td>0.000000</td>\n",
       "      <td>0.000000</td>\n",
       "      <td>0.000000</td>\n",
       "      <td>NaN</td>\n",
       "      <td>-6.792410</td>\n",
       "      <td>-39.021300</td>\n",
       "      <td>2009.000000</td>\n",
       "      <td>NaN</td>\n",
       "      <td>0.000000</td>\n",
       "      <td>0.000000</td>\n",
       "      <td>0.000000</td>\n",
       "      <td>0.000000</td>\n",
       "      <td>0.000000</td>\n",
       "      <td>0.000000</td>\n",
       "      <td>0.000000</td>\n",
       "      <td>0.000000</td>\n",
       "      <td>0.000000</td>\n",
       "      <td>0.000000</td>\n",
       "      <td>0.000000</td>\n",
       "      <td>86.690000</td>\n",
       "      <td>83.003300</td>\n",
       "      <td>0.002508</td>\n",
       "      <td>0.043486</td>\n",
       "      <td>-60.047800</td>\n",
       "      <td>-43.195100</td>\n",
       "      <td>-26.661400</td>\n",
       "      <td>-142.114000</td>\n",
       "      <td>0.000000</td>\n",
       "      <td>-106.262000</td>\n",
       "      <td>-40.672400</td>\n",
       "      <td>0.000000</td>\n",
       "      <td>0.000000</td>\n",
       "      <td>0.000000</td>\n",
       "      <td>0.000000</td>\n",
       "      <td>0.000000</td>\n",
       "      <td>0.000000</td>\n",
       "      <td>0.000000</td>\n",
       "      <td>NaN</td>\n",
       "      <td>0.000000</td>\n",
       "      <td>0.000000</td>\n",
       "      <td>0.000000</td>\n",
       "    </tr>\n",
       "    <tr>\n",
       "      <th>25%</th>\n",
       "      <td>NaN</td>\n",
       "      <td>NaN</td>\n",
       "      <td>19.000000</td>\n",
       "      <td>12.700000</td>\n",
       "      <td>84.90000</td>\n",
       "      <td>14.700000</td>\n",
       "      <td>40.600000</td>\n",
       "      <td>44.350000</td>\n",
       "      <td>1.800000</td>\n",
       "      <td>8.200000</td>\n",
       "      <td>5.400000</td>\n",
       "      <td>15.100000</td>\n",
       "      <td>5.000000</td>\n",
       "      <td>9.000000</td>\n",
       "      <td>0.516000</td>\n",
       "      <td>7.000000</td>\n",
       "      <td>17.000000</td>\n",
       "      <td>0.376000</td>\n",
       "      <td>0.000000</td>\n",
       "      <td>2.000000</td>\n",
       "      <td>0.000000</td>\n",
       "      <td>0.000000</td>\n",
       "      <td>1.000000</td>\n",
       "      <td>NaN</td>\n",
       "      <td>-0.160896</td>\n",
       "      <td>80.154725</td>\n",
       "      <td>2011.000000</td>\n",
       "      <td>NaN</td>\n",
       "      <td>0.000000</td>\n",
       "      <td>0.500150</td>\n",
       "      <td>6.000000</td>\n",
       "      <td>12.000000</td>\n",
       "      <td>3.000000</td>\n",
       "      <td>10.000000</td>\n",
       "      <td>0.500000</td>\n",
       "      <td>0.274500</td>\n",
       "      <td>0.000000</td>\n",
       "      <td>0.000000</td>\n",
       "      <td>0.000000</td>\n",
       "      <td>99.957575</td>\n",
       "      <td>99.028950</td>\n",
       "      <td>0.589522</td>\n",
       "      <td>25.729400</td>\n",
       "      <td>-5.301815</td>\n",
       "      <td>-3.780743</td>\n",
       "      <td>-2.303060</td>\n",
       "      <td>-5.357470</td>\n",
       "      <td>8.333300</td>\n",
       "      <td>-4.275498</td>\n",
       "      <td>-1.782725</td>\n",
       "      <td>0.233300</td>\n",
       "      <td>0.750000</td>\n",
       "      <td>1.069000</td>\n",
       "      <td>0.272700</td>\n",
       "      <td>0.181800</td>\n",
       "      <td>0.000000</td>\n",
       "      <td>1.800000</td>\n",
       "      <td>NaN</td>\n",
       "      <td>0.000000</td>\n",
       "      <td>0.000000</td>\n",
       "      <td>0.000000</td>\n",
       "    </tr>\n",
       "    <tr>\n",
       "      <th>50%</th>\n",
       "      <td>NaN</td>\n",
       "      <td>NaN</td>\n",
       "      <td>28.000000</td>\n",
       "      <td>38.500000</td>\n",
       "      <td>97.10000</td>\n",
       "      <td>18.100000</td>\n",
       "      <td>47.500000</td>\n",
       "      <td>50.770000</td>\n",
       "      <td>4.100000</td>\n",
       "      <td>11.300000</td>\n",
       "      <td>9.800000</td>\n",
       "      <td>19.300000</td>\n",
       "      <td>22.000000</td>\n",
       "      <td>34.000000</td>\n",
       "      <td>0.667000</td>\n",
       "      <td>29.000000</td>\n",
       "      <td>64.000000</td>\n",
       "      <td>0.455000</td>\n",
       "      <td>7.000000</td>\n",
       "      <td>24.000000</td>\n",
       "      <td>0.290000</td>\n",
       "      <td>0.800000</td>\n",
       "      <td>1.600000</td>\n",
       "      <td>NaN</td>\n",
       "      <td>0.434837</td>\n",
       "      <td>94.727100</td>\n",
       "      <td>2014.000000</td>\n",
       "      <td>NaN</td>\n",
       "      <td>0.000000</td>\n",
       "      <td>0.812579</td>\n",
       "      <td>18.000000</td>\n",
       "      <td>32.000000</td>\n",
       "      <td>8.000000</td>\n",
       "      <td>26.000000</td>\n",
       "      <td>0.579700</td>\n",
       "      <td>0.333300</td>\n",
       "      <td>0.000000</td>\n",
       "      <td>0.000000</td>\n",
       "      <td>0.000000</td>\n",
       "      <td>104.258000</td>\n",
       "      <td>104.437500</td>\n",
       "      <td>1.306695</td>\n",
       "      <td>80.719650</td>\n",
       "      <td>-1.924590</td>\n",
       "      <td>-1.228985</td>\n",
       "      <td>-0.729527</td>\n",
       "      <td>-1.881095</td>\n",
       "      <td>17.645200</td>\n",
       "      <td>-1.506645</td>\n",
       "      <td>-0.460487</td>\n",
       "      <td>0.545500</td>\n",
       "      <td>1.655200</td>\n",
       "      <td>2.275900</td>\n",
       "      <td>0.766700</td>\n",
       "      <td>0.454500</td>\n",
       "      <td>0.121200</td>\n",
       "      <td>4.789500</td>\n",
       "      <td>NaN</td>\n",
       "      <td>0.000000</td>\n",
       "      <td>0.000000</td>\n",
       "      <td>0.000000</td>\n",
       "    </tr>\n",
       "    <tr>\n",
       "      <th>75%</th>\n",
       "      <td>NaN</td>\n",
       "      <td>NaN</td>\n",
       "      <td>31.000000</td>\n",
       "      <td>63.800000</td>\n",
       "      <td>106.70000</td>\n",
       "      <td>21.800000</td>\n",
       "      <td>52.700000</td>\n",
       "      <td>55.790000</td>\n",
       "      <td>7.500000</td>\n",
       "      <td>15.000000</td>\n",
       "      <td>15.900000</td>\n",
       "      <td>24.600000</td>\n",
       "      <td>53.000000</td>\n",
       "      <td>76.000000</td>\n",
       "      <td>0.761000</td>\n",
       "      <td>66.000000</td>\n",
       "      <td>138.000000</td>\n",
       "      <td>0.517000</td>\n",
       "      <td>27.000000</td>\n",
       "      <td>81.000000</td>\n",
       "      <td>0.363000</td>\n",
       "      <td>2.000000</td>\n",
       "      <td>2.300000</td>\n",
       "      <td>NaN</td>\n",
       "      <td>1.552260</td>\n",
       "      <td>106.287500</td>\n",
       "      <td>2016.000000</td>\n",
       "      <td>NaN</td>\n",
       "      <td>22.600000</td>\n",
       "      <td>1.266565</td>\n",
       "      <td>38.000000</td>\n",
       "      <td>66.000000</td>\n",
       "      <td>20.000000</td>\n",
       "      <td>58.000000</td>\n",
       "      <td>0.637900</td>\n",
       "      <td>0.386600</td>\n",
       "      <td>3.000000</td>\n",
       "      <td>3.000000</td>\n",
       "      <td>0.000000</td>\n",
       "      <td>108.591250</td>\n",
       "      <td>109.670250</td>\n",
       "      <td>2.171387</td>\n",
       "      <td>135.921750</td>\n",
       "      <td>1.149853</td>\n",
       "      <td>1.095600</td>\n",
       "      <td>0.777794</td>\n",
       "      <td>1.216110</td>\n",
       "      <td>26.970800</td>\n",
       "      <td>1.019082</td>\n",
       "      <td>0.820433</td>\n",
       "      <td>1.083300</td>\n",
       "      <td>2.718800</td>\n",
       "      <td>3.757600</td>\n",
       "      <td>1.647100</td>\n",
       "      <td>0.827600</td>\n",
       "      <td>0.314300</td>\n",
       "      <td>9.314300</td>\n",
       "      <td>NaN</td>\n",
       "      <td>0.000000</td>\n",
       "      <td>0.000000</td>\n",
       "      <td>1.000000</td>\n",
       "    </tr>\n",
       "    <tr>\n",
       "      <th>max</th>\n",
       "      <td>NaN</td>\n",
       "      <td>NaN</td>\n",
       "      <td>41.000000</td>\n",
       "      <td>98.000000</td>\n",
       "      <td>834.00000</td>\n",
       "      <td>50.000000</td>\n",
       "      <td>150.000000</td>\n",
       "      <td>150.000000</td>\n",
       "      <td>17.600000</td>\n",
       "      <td>26.900000</td>\n",
       "      <td>100.000000</td>\n",
       "      <td>100.000000</td>\n",
       "      <td>312.000000</td>\n",
       "      <td>374.000000</td>\n",
       "      <td>1.000000</td>\n",
       "      <td>311.000000</td>\n",
       "      <td>615.000000</td>\n",
       "      <td>1.000000</td>\n",
       "      <td>147.000000</td>\n",
       "      <td>394.000000</td>\n",
       "      <td>1.000000</td>\n",
       "      <td>6.100000</td>\n",
       "      <td>28.000000</td>\n",
       "      <td>NaN</td>\n",
       "      <td>8.658190</td>\n",
       "      <td>678.942000</td>\n",
       "      <td>2018.000000</td>\n",
       "      <td>NaN</td>\n",
       "      <td>100.000000</td>\n",
       "      <td>12.001200</td>\n",
       "      <td>238.000000</td>\n",
       "      <td>358.000000</td>\n",
       "      <td>222.000000</td>\n",
       "      <td>532.000000</td>\n",
       "      <td>1.000000</td>\n",
       "      <td>1.000000</td>\n",
       "      <td>99.000000</td>\n",
       "      <td>105.000000</td>\n",
       "      <td>60.000000</td>\n",
       "      <td>121.814000</td>\n",
       "      <td>125.786000</td>\n",
       "      <td>5.340040</td>\n",
       "      <td>299.610000</td>\n",
       "      <td>27.439100</td>\n",
       "      <td>42.552200</td>\n",
       "      <td>10.809800</td>\n",
       "      <td>269.508000</td>\n",
       "      <td>40.066700</td>\n",
       "      <td>225.485000</td>\n",
       "      <td>44.022500</td>\n",
       "      <td>4.939400</td>\n",
       "      <td>8.771400</td>\n",
       "      <td>13.069000</td>\n",
       "      <td>10.000000</td>\n",
       "      <td>4.000000</td>\n",
       "      <td>2.069000</td>\n",
       "      <td>29.968800</td>\n",
       "      <td>NaN</td>\n",
       "      <td>1.000000</td>\n",
       "      <td>1.000000</td>\n",
       "      <td>1.000000</td>\n",
       "    </tr>\n",
       "  </tbody>\n",
       "</table>\n",
       "</div>"
      ],
      "text/plain": [
       "         team   conf            GP       Min_per         Ortg           usg  \\\n",
       "count   41276  41276  41276.000000  41276.000000  41276.00000  41276.000000   \n",
       "unique    355     36           NaN           NaN          NaN           NaN   \n",
       "top      Penn    A10           NaN           NaN          NaN           NaN   \n",
       "freq      154   1616           NaN           NaN          NaN           NaN   \n",
       "mean      NaN    NaN     24.282392     39.229169     92.44719     18.169634   \n",
       "std       NaN    NaN      9.511186     27.763210     27.95672      5.865000   \n",
       "min       NaN    NaN      1.000000      0.000000      0.00000      0.000000   \n",
       "25%       NaN    NaN     19.000000     12.700000     84.90000     14.700000   \n",
       "50%       NaN    NaN     28.000000     38.500000     97.10000     18.100000   \n",
       "75%       NaN    NaN     31.000000     63.800000    106.70000     21.800000   \n",
       "max       NaN    NaN     41.000000     98.000000    834.00000     50.000000   \n",
       "\n",
       "                 eFG        TS_per       ORB_per       DRB_per       AST_per  \\\n",
       "count   41276.000000  41276.000000  41276.000000  41276.000000  41276.000000   \n",
       "unique           NaN           NaN           NaN           NaN           NaN   \n",
       "top              NaN           NaN           NaN           NaN           NaN   \n",
       "freq             NaN           NaN           NaN           NaN           NaN   \n",
       "mean       44.874331     48.106386      4.895230     11.603050     11.441281   \n",
       "std        16.570441     15.857189      3.810372      5.373759      8.923157   \n",
       "min         0.000000      0.000000      0.000000      0.000000      0.000000   \n",
       "25%        40.600000     44.350000      1.800000      8.200000      5.400000   \n",
       "50%        47.500000     50.770000      4.100000     11.300000      9.800000   \n",
       "75%        52.700000     55.790000      7.500000     15.000000     15.900000   \n",
       "max       150.000000    150.000000     17.600000     26.900000    100.000000   \n",
       "\n",
       "              TO_per           FTM           FTA        FT_per         twoPM  \\\n",
       "count   41276.000000  41276.000000  41276.000000  41276.000000  41276.000000   \n",
       "unique           NaN           NaN           NaN           NaN           NaN   \n",
       "top              NaN           NaN           NaN           NaN           NaN   \n",
       "freq             NaN           NaN           NaN           NaN           NaN   \n",
       "mean       20.585721     34.895678     49.601027      0.600705     42.159584   \n",
       "std        11.379370     37.585701     50.106389      0.253164     42.828758   \n",
       "min         0.000000      0.000000      0.000000      0.000000      0.000000   \n",
       "25%        15.100000      5.000000      9.000000      0.516000      7.000000   \n",
       "50%        19.300000     22.000000     34.000000      0.667000     29.000000   \n",
       "75%        24.600000     53.000000     76.000000      0.761000     66.000000   \n",
       "max       100.000000    312.000000    374.000000      1.000000    311.000000   \n",
       "\n",
       "               twoPA      twoP_per           TPM           TPA        TP_per  \\\n",
       "count   41276.000000  41276.000000  41276.000000  41276.000000  41276.000000   \n",
       "unique           NaN           NaN           NaN           NaN           NaN   \n",
       "top              NaN           NaN           NaN           NaN           NaN   \n",
       "freq             NaN           NaN           NaN           NaN           NaN   \n",
       "mean       88.224319      0.427657     17.101827     49.501066      0.242245   \n",
       "std        84.469438      0.177985     22.098891     58.940613      0.183673   \n",
       "min         0.000000      0.000000      0.000000      0.000000      0.000000   \n",
       "25%        17.000000      0.376000      0.000000      2.000000      0.000000   \n",
       "50%        64.000000      0.455000      7.000000     24.000000      0.290000   \n",
       "75%       138.000000      0.517000     27.000000     81.000000      0.363000   \n",
       "max       615.000000      1.000000    147.000000    394.000000      1.000000   \n",
       "\n",
       "             blk_per       stl_per     yr        porpag         adjoe  \\\n",
       "count   41276.000000  41276.000000  41062  41276.000000  41276.000000   \n",
       "unique           NaN           NaN      7           NaN           NaN   \n",
       "top              NaN           NaN     Jr           NaN           NaN   \n",
       "freq             NaN           NaN  11092           NaN           NaN   \n",
       "mean        1.307147      1.687235    NaN      0.813217     89.986361   \n",
       "std         1.499922      1.170708    NaN      1.355988     28.553654   \n",
       "min         0.000000      0.000000    NaN     -6.792410    -39.021300   \n",
       "25%         0.000000      1.000000    NaN     -0.160896     80.154725   \n",
       "50%         0.800000      1.600000    NaN      0.434837     94.727100   \n",
       "75%         2.000000      2.300000    NaN      1.552260    106.287500   \n",
       "max         6.100000     28.000000    NaN      8.658190    678.942000   \n",
       "\n",
       "                year   type      Rec_Rank       ast_tov       rimmade  \\\n",
       "count   41276.000000  41276  41276.000000  41276.000000  41276.000000   \n",
       "unique           NaN      1           NaN           NaN           NaN   \n",
       "top              NaN    all           NaN           NaN           NaN   \n",
       "freq             NaN  41276           NaN           NaN           NaN   \n",
       "mean     2013.520738    NaN     16.176756      0.959321     26.576025   \n",
       "std         2.874594    NaN     28.728715      0.671656     27.369180   \n",
       "min      2009.000000    NaN      0.000000      0.000000      0.000000   \n",
       "25%      2011.000000    NaN      0.000000      0.500150      6.000000   \n",
       "50%      2014.000000    NaN      0.000000      0.812579     18.000000   \n",
       "75%      2016.000000    NaN     22.600000      1.266565     38.000000   \n",
       "max      2018.000000    NaN    100.000000     12.001200    238.000000   \n",
       "\n",
       "        rimmade_rimmiss       midmade  midmade_midmiss     rim_ratio  \\\n",
       "count      41276.000000  41276.000000     41276.000000  41276.000000   \n",
       "unique              NaN           NaN              NaN           NaN   \n",
       "top                 NaN           NaN              NaN           NaN   \n",
       "freq                NaN           NaN              NaN           NaN   \n",
       "mean          45.236578     14.420826        40.909245      0.562844   \n",
       "std           43.623728     16.853504        42.708868      0.167651   \n",
       "min            0.000000      0.000000         0.000000      0.000000   \n",
       "25%           12.000000      3.000000        10.000000      0.500000   \n",
       "50%           32.000000      8.000000        26.000000      0.579700   \n",
       "75%           66.000000     20.000000        58.000000      0.637900   \n",
       "max          358.000000    222.000000       532.000000      1.000000   \n",
       "\n",
       "           mid_ratio     dunksmade  dunksmiss_dunksmade          pick  \\\n",
       "count   41276.000000  41276.000000         41276.000000  41276.000000   \n",
       "unique           NaN           NaN                  NaN           NaN   \n",
       "top              NaN           NaN                  NaN           NaN   \n",
       "freq             NaN           NaN                  NaN           NaN   \n",
       "mean        0.325704      2.819387             3.174750      0.786026   \n",
       "std         0.149940      6.341450             6.975851      5.670202   \n",
       "min         0.000000      0.000000             0.000000      0.000000   \n",
       "25%         0.274500      0.000000             0.000000      0.000000   \n",
       "50%         0.333300      0.000000             0.000000      0.000000   \n",
       "75%         0.386600      3.000000             3.000000      0.000000   \n",
       "max         1.000000     99.000000           105.000000     60.000000   \n",
       "\n",
       "                drtg         adrtg       dporpag         stops           bpm  \\\n",
       "count   41276.000000  41276.000000  41276.000000  41276.000000  41276.000000   \n",
       "unique           NaN           NaN           NaN           NaN           NaN   \n",
       "top              NaN           NaN           NaN           NaN           NaN   \n",
       "freq             NaN           NaN           NaN           NaN           NaN   \n",
       "mean      104.245385    104.344978      1.459323     85.145234     -2.575603   \n",
       "std         6.279304      7.594576      1.030187     63.433952      5.991332   \n",
       "min        86.690000     83.003300      0.002508      0.043486    -60.047800   \n",
       "25%        99.957575     99.028950      0.589522     25.729400     -5.301815   \n",
       "50%       104.258000    104.437500      1.306695     80.719650     -1.924590   \n",
       "75%       108.591250    109.670250      2.171387    135.921750      1.149853   \n",
       "max       121.814000    125.786000      5.340040    299.610000     27.439100   \n",
       "\n",
       "                obpm          dbpm          gbpm            mp         ogbpm  \\\n",
       "count   41276.000000  41276.000000  41276.000000  41276.000000  41276.000000   \n",
       "unique           NaN           NaN           NaN           NaN           NaN   \n",
       "top              NaN           NaN           NaN           NaN           NaN   \n",
       "freq             NaN           NaN           NaN           NaN           NaN   \n",
       "mean       -1.679996     -0.895692     -2.596475     17.706624     -1.959332   \n",
       "std         4.505743      2.648985      7.209597     10.478583      5.495239   \n",
       "min       -43.195100    -26.661400   -142.114000      0.000000   -106.262000   \n",
       "25%        -3.780743     -2.303060     -5.357470      8.333300     -4.275498   \n",
       "50%        -1.228985     -0.729527     -1.881095     17.645200     -1.506645   \n",
       "75%         1.095600      0.777794      1.216110     26.970800      1.019082   \n",
       "max        42.552200     10.809800    269.508000     40.066700    225.485000   \n",
       "\n",
       "               dgbpm          oreb          dreb          treb           ast  \\\n",
       "count   41276.000000  41276.000000  41276.000000  41276.000000  41276.000000   \n",
       "unique           NaN           NaN           NaN           NaN           NaN   \n",
       "top              NaN           NaN           NaN           NaN           NaN   \n",
       "freq             NaN           NaN           NaN           NaN           NaN   \n",
       "mean       -0.637230      0.754079      1.874655      2.628795      1.155548   \n",
       "std         2.523313      0.707437      1.400116      1.992482      1.199131   \n",
       "min       -40.672400      0.000000      0.000000      0.000000      0.000000   \n",
       "25%        -1.782725      0.233300      0.750000      1.069000      0.272700   \n",
       "50%        -0.460487      0.545500      1.655200      2.275900      0.766700   \n",
       "75%         0.820433      1.083300      2.718800      3.757600      1.647100   \n",
       "max        44.022500      4.939400      8.771400     13.069000     10.000000   \n",
       "\n",
       "                 stl           blk           pts  \\\n",
       "count   41276.000000  41276.000000  41276.000000   \n",
       "unique           NaN           NaN           NaN   \n",
       "top              NaN           NaN           NaN   \n",
       "freq             NaN           NaN           NaN   \n",
       "mean        0.556970      0.223855      5.994325   \n",
       "std         0.472476      0.285047      4.949057   \n",
       "min         0.000000      0.000000      0.000000   \n",
       "25%         0.181800      0.000000      1.800000   \n",
       "50%         0.454500      0.121200      4.789500   \n",
       "75%         0.827600      0.314300      9.314300   \n",
       "max         4.000000      2.069000     29.968800   \n",
       "\n",
       "                                   player_id       drafted        Picked  \\\n",
       "count                                  41276  41276.000000  41276.000000   \n",
       "unique                                 18814           NaN           NaN   \n",
       "top     c6a43e58-d8ad-478f-bbc0-dbc880e29142           NaN           NaN   \n",
       "freq                                       6           NaN           NaN   \n",
       "mean                                     NaN      0.008165      0.023355   \n",
       "std                                      NaN      0.089989      0.151030   \n",
       "min                                      NaN      0.000000      0.000000   \n",
       "25%                                      NaN      0.000000      0.000000   \n",
       "50%                                      NaN      0.000000      0.000000   \n",
       "75%                                      NaN      0.000000      0.000000   \n",
       "max                                      NaN      1.000000      1.000000   \n",
       "\n",
       "           Recruited  \n",
       "count   41276.000000  \n",
       "unique           NaN  \n",
       "top              NaN  \n",
       "freq             NaN  \n",
       "mean        0.307539  \n",
       "std         0.461480  \n",
       "min         0.000000  \n",
       "25%         0.000000  \n",
       "50%         0.000000  \n",
       "75%         1.000000  \n",
       "max         1.000000  "
      ]
     },
     "execution_count": 223,
     "metadata": {},
     "output_type": "execute_result"
    }
   ],
   "source": [
    "#Train set\n",
    "var = ['ORB_per', 'DRB_per', 'blk_per', 'drtg', 'adrtg']\n",
    "\n",
    "for col in var:\n",
    "    Q1 = df_train2[col].quantile(0.25)\n",
    "    Q3 = df_train2[col].quantile(0.75)\n",
    "    IQR = Q3 - Q1\n",
    "    lower_bound = Q1 - 1.5 * IQR\n",
    "    upper_bound = Q3 + 1.5 * IQR\n",
    "    df_train2 = df_train2[(df_train2[col] >= lower_bound) & (df_train2[col] <= upper_bound)]\n",
    "\n",
    "df_train2.describe(include='all')"
   ]
  },
  {
   "cell_type": "markdown",
   "id": "5741ff2c-361b-4bf2-b23f-8d43adb6dd45",
   "metadata": {},
   "source": [
    "### 3. Explore variables"
   ]
  },
  {
   "cell_type": "markdown",
   "id": "50fbd6bc-84b6-480b-8da2-5db01cdc5925",
   "metadata": {},
   "source": [
    "**[3.1] Target variable**"
   ]
  },
  {
   "cell_type": "code",
   "execution_count": 224,
   "id": "4a6631f0-4995-4fb1-9b92-ee059590e1ce",
   "metadata": {},
   "outputs": [],
   "source": [
    "# draft_prob = df_train2.drafted.value_counts(normalize=True)\n",
    "# fig, ax = plt.subplots()\n",
    "# draft_prob.plot(kind='bar', ax=ax).set_title('Target proportion')\n",
    "# ax.set_xlabel('Drafted')\n",
    "# ax.set_ylabel('Probability')\n",
    "# ax.set_xticklabels([0,1], rotation=0)\n",
    "# ax.grid(False)\n",
    "# plt.show()"
   ]
  },
  {
   "cell_type": "markdown",
   "id": "af2c9f36-134a-49dd-a008-47f78f516e6c",
   "metadata": {},
   "source": [
    "* The target class is extremely imbalanced."
   ]
  },
  {
   "cell_type": "code",
   "execution_count": 225,
   "id": "4d830124-0f64-4bf1-9367-0e20dc0f1108",
   "metadata": {},
   "outputs": [],
   "source": [
    "# #Games played by year\n",
    "# ax=sns.histplot(df_train2['GP'][df_train2['drafted']==0], edgecolor='white', kde=True, color='skyblue')\n",
    "# ax=sns.histplot(df_train2['GP'][df_train2['drafted']==1], edgecolor='white', kde=True, color='orange')\n",
    "# ax.legend(['drafted 0', 'drafted 1'])\n",
    "# ax.set_title('Number of games played by draft')\n",
    "# plt.show()"
   ]
  },
  {
   "cell_type": "markdown",
   "id": "aa82965c-bae9-414f-aae7-09cd55d13a7d",
   "metadata": {},
   "source": [
    "* Players who played more games seem to have higher chances of being drafted."
   ]
  },
  {
   "cell_type": "code",
   "execution_count": 226,
   "id": "88874f61-d175-4e36-a089-5b51ebba8bb1",
   "metadata": {},
   "outputs": [],
   "source": [
    "# ax=sns.kdeplot(df_train2['mp'][df_train2['drafted']==0], color='Skyblue', fill=True)\n",
    "# ax=sns.kdeplot(df_train2['mp'][df_train2['drafted']==1], color='Orange', fill=True)\n",
    "# ax.legend(['drafted 0', 'drafted 1'])\n",
    "# ax.set_title('Minutes played by draft')"
   ]
  },
  {
   "cell_type": "markdown",
   "id": "fcada668-f48b-4a32-9919-d17d08d592e8",
   "metadata": {},
   "source": [
    "* Players who played more minutes in the season tend to have higher chances of being drafted."
   ]
  },
  {
   "cell_type": "markdown",
   "id": "02df05a1-c17f-4d62-92e8-c901a5d8f261",
   "metadata": {},
   "source": [
    "**Categorical variables**"
   ]
  },
  {
   "cell_type": "code",
   "execution_count": 227,
   "id": "f2a00401-27ab-4c2b-92f5-1be6248f0312",
   "metadata": {},
   "outputs": [
    {
     "data": {
      "text/plain": [
       "type\n",
       "all    41276\n",
       "Name: count, dtype: int64"
      ]
     },
     "execution_count": 227,
     "metadata": {},
     "output_type": "execute_result"
    }
   ],
   "source": [
    "df_train2['type'].value_counts()"
   ]
  },
  {
   "cell_type": "markdown",
   "id": "8d38e22e-a04a-4aba-b2f3-ca4f6abae10a",
   "metadata": {},
   "source": [
    "**Count unique values of student's year of study**"
   ]
  },
  {
   "cell_type": "code",
   "execution_count": 228,
   "id": "6a548e21-01ef-48de-ba44-ae49cb15d497",
   "metadata": {},
   "outputs": [
    {
     "data": {
      "text/plain": [
       "yr\n",
       "Jr      11092\n",
       "Fr      10688\n",
       "So       9686\n",
       "Sr       9591\n",
       "0           3\n",
       "57.1        1\n",
       "42.9        1\n",
       "Name: count, dtype: int64"
      ]
     },
     "execution_count": 228,
     "metadata": {},
     "output_type": "execute_result"
    }
   ],
   "source": [
    "df_train2['yr'].value_counts()"
   ]
  },
  {
   "cell_type": "markdown",
   "id": "6c25e7cd-7905-4e8f-8eec-439de5cf0011",
   "metadata": {},
   "source": [
    "* There is only one 'type' in the dataset. In other words, it is not useful for prediction and, therefore, will be dropped.\n",
    "* Regarding the student's year of study ('yr'), some numeric values were found in the data, which are invalid in this categorical variable. The invalid values will be propagated by the previous valid value."
   ]
  },
  {
   "cell_type": "markdown",
   "id": "9714f2a1-c16d-4ff3-a224-b22e1ff71218",
   "metadata": {},
   "source": [
    "**Drop attribute 'type'**"
   ]
  },
  {
   "cell_type": "code",
   "execution_count": 229,
   "id": "fe8a4227-c804-47ed-9f59-0f2a6c783efc",
   "metadata": {},
   "outputs": [],
   "source": [
    "df_train2 = df_train2.drop(['type'], axis=1)\n",
    "df_test2 = df_test2.drop(['type'], axis=1)"
   ]
  },
  {
   "cell_type": "markdown",
   "id": "ff7a8700-9791-4890-8101-4a053738a9a3",
   "metadata": {},
   "source": [
    "**Remove invalid values existing in student's year of study**"
   ]
  },
  {
   "cell_type": "code",
   "execution_count": 230,
   "id": "5f52297a-8bd6-473a-8cdf-248ae8f388b6",
   "metadata": {},
   "outputs": [],
   "source": [
    "#Transform 'yr' type to string\n",
    "df_train2['yr'] = df_train2['yr'].astype(str)\n",
    "df_test2['yr'] = df_test2['yr'].astype(str)\n",
    "\n",
    "#Fill invalid values with the previous valid values  \n",
    "df_train2['yr'] = df_train2['yr'].replace(['nan', '0', '57.1', '42.9'], np.nan)\n",
    "df_train2['yr'] = df_train2['yr'].ffill()\n",
    "df_test2['yr'] = df_test2['yr'].replace(['nan', '0'], np.nan)\n",
    "df_test2['yr'] = df_test2['yr'].ffill()"
   ]
  },
  {
   "cell_type": "code",
   "execution_count": 231,
   "id": "7ebfc593-b16a-44cd-b609-e5b431056caa",
   "metadata": {},
   "outputs": [
    {
     "name": "stdout",
     "output_type": "stream",
     "text": [
      "Train: (46618, 60)\n",
      "Test: (4970, 59)\n"
     ]
    }
   ],
   "source": [
    "print(\"Train:\", df_train.shape)\n",
    "print(\"Test:\", df_test.shape)"
   ]
  },
  {
   "cell_type": "markdown",
   "id": "64a558f3-3759-4d69-9058-fe72f822513a",
   "metadata": {},
   "source": [
    "**Check if the invalid values are addressed**"
   ]
  },
  {
   "cell_type": "code",
   "execution_count": 232,
   "id": "217d5ed3-10a1-4106-be9c-3efe0df6d2d7",
   "metadata": {},
   "outputs": [
    {
     "name": "stdout",
     "output_type": "stream",
     "text": [
      "Train:\n",
      " yr\n",
      "Jr    11151\n",
      "Fr    10788\n",
      "So     9715\n",
      "Sr     9622\n",
      "Name: count, dtype: int64\n",
      "\n",
      "Test:\n",
      " yr\n",
      "Fr    1328\n",
      "Jr    1318\n",
      "So    1233\n",
      "Sr    1091\n",
      "Name: count, dtype: int64\n"
     ]
    }
   ],
   "source": [
    "print(\"Train:\\n\", df_train2['yr'].value_counts())\n",
    "print(\"\\nTest:\\n\", df_test2['yr'].value_counts())"
   ]
  },
  {
   "cell_type": "markdown",
   "id": "30219586-86b3-4d27-b05a-0cde4c3ea69b",
   "metadata": {},
   "source": [
    "### 4. Prepare Data"
   ]
  },
  {
   "cell_type": "markdown",
   "id": "43362bc8-f42b-4de5-a4ac-fc83fb85603e",
   "metadata": {},
   "source": [
    "**[4.1] Create a copy of dataframe**"
   ]
  },
  {
   "cell_type": "code",
   "execution_count": 233,
   "id": "20f27332-be97-4ef1-983f-0885f2d51b47",
   "metadata": {},
   "outputs": [],
   "source": [
    "df_train_cleaned = df_train2.copy()\n",
    "df_test_cleaned = df_test2.copy()"
   ]
  },
  {
   "cell_type": "markdown",
   "id": "831af4d7-4f59-4595-9874-48dc23418c18",
   "metadata": {},
   "source": [
    "**[4.2] Extract the target from dataframe**"
   ]
  },
  {
   "cell_type": "code",
   "execution_count": 234,
   "id": "03d555de-31fd-4b4f-973f-381a699d456b",
   "metadata": {},
   "outputs": [],
   "source": [
    "y_data = df_train_cleaned.pop('drafted')\n",
    "y = y_data.copy()"
   ]
  },
  {
   "cell_type": "code",
   "execution_count": 235,
   "id": "45dfeef7-2e6b-46d6-844c-ed0e9c789bf6",
   "metadata": {},
   "outputs": [
    {
     "data": {
      "text/plain": [
       "drafted\n",
       "0.0    0.991835\n",
       "1.0    0.008165\n",
       "Name: proportion, dtype: float64"
      ]
     },
     "execution_count": 235,
     "metadata": {},
     "output_type": "execute_result"
    }
   ],
   "source": [
    "#Frequency of target variable\n",
    "y_data.value_counts(normalize=True)"
   ]
  },
  {
   "cell_type": "markdown",
   "id": "d55e8493-4aab-4dfa-93e3-82e09e396ce6",
   "metadata": {},
   "source": [
    "**[4.3] Create a list of numeric and categorical variables respectively**"
   ]
  },
  {
   "cell_type": "code",
   "execution_count": 236,
   "id": "a4720d20-6367-42b6-b0f3-ea1e31948c74",
   "metadata": {},
   "outputs": [],
   "source": [
    "num_cols = list(df_train_cleaned.select_dtypes('number').columns)\n",
    "cat_cols = list(set(df_train_cleaned.columns) - set(num_cols))\n",
    "\n",
    "num_cols2 = list(df_test_cleaned.select_dtypes('number').columns)\n",
    "cat_cols2 = list(set(df_test_cleaned.columns) - set(num_cols2))"
   ]
  },
  {
   "cell_type": "markdown",
   "id": "edcb9cf3-ac9f-49e3-b9b7-8b21d1cfc9c8",
   "metadata": {},
   "source": [
    "**[4.4] Import scaler and encoding**"
   ]
  },
  {
   "cell_type": "code",
   "execution_count": 237,
   "id": "68968c26-7e8d-4b60-af5e-0bba9ca69812",
   "metadata": {},
   "outputs": [],
   "source": [
    "from sklearn.preprocessing import StandardScaler, OneHotEncoder"
   ]
  },
  {
   "cell_type": "markdown",
   "id": "57cc99a4-4a14-49bd-ac7f-4af6a886da23",
   "metadata": {},
   "source": [
    "**[4.65 Encoding categorical variable**"
   ]
  },
  {
   "cell_type": "code",
   "execution_count": 238,
   "id": "13aab132-9b60-45f5-9d6e-3a3c3529a8c4",
   "metadata": {},
   "outputs": [],
   "source": [
    "ohe = OneHotEncoder(sparse_output=False, drop='first')\n",
    "\n",
    "#Transform the column\n",
    "features_train = ohe.fit_transform(df_train_cleaned[['yr']])\n",
    "features_test = ohe.transform(df_test_cleaned[['yr']])"
   ]
  },
  {
   "cell_type": "code",
   "execution_count": 239,
   "id": "385183fc-bdd0-45d2-89ff-1750afc674f1",
   "metadata": {},
   "outputs": [],
   "source": [
    "#Convert to dataframes\n",
    "features_train = pd.DataFrame(features_train, columns=ohe.get_feature_names_out())\n",
    "features_test = pd.DataFrame(features_test, columns=ohe.get_feature_names_out())"
   ]
  },
  {
   "cell_type": "markdown",
   "id": "75fddbf0-30f1-41ce-a864-c5072dfa3d59",
   "metadata": {},
   "source": [
    "**[4.6] Scaling and fit transform numeric features**"
   ]
  },
  {
   "cell_type": "code",
   "execution_count": 240,
   "id": "8c58f738-246e-43c5-9f61-ace17dedc5d6",
   "metadata": {},
   "outputs": [],
   "source": [
    "scaler = StandardScaler()"
   ]
  },
  {
   "cell_type": "code",
   "execution_count": 241,
   "id": "683c80a6-33fb-474f-acd0-7327cd67f51d",
   "metadata": {},
   "outputs": [],
   "source": [
    "#Fit transform\n",
    "features_train[num_cols] = scaler.fit_transform(df_train_cleaned[num_cols])\n",
    "features_test[num_cols2] = scaler.transform(df_test_cleaned[num_cols2])"
   ]
  },
  {
   "cell_type": "markdown",
   "id": "ba516b4b-381a-449b-bee8-d060d0acf16e",
   "metadata": {},
   "source": [
    "### 5. Split the dataset"
   ]
  },
  {
   "cell_type": "code",
   "execution_count": 242,
   "id": "a25a4b3a-9fbc-47a7-b154-6ff65d141f84",
   "metadata": {},
   "outputs": [],
   "source": [
    "X_train = features_train.copy()\n",
    "X_test = features_test.copy()"
   ]
  },
  {
   "cell_type": "markdown",
   "id": "776b8b2b-17d2-4036-8886-97565302f6d4",
   "metadata": {},
   "source": [
    "**Import package and split the data**"
   ]
  },
  {
   "cell_type": "code",
   "execution_count": 243,
   "id": "ab052370-3bee-4c0a-962f-129c3b3701e8",
   "metadata": {},
   "outputs": [],
   "source": [
    "from sklearn.model_selection import train_test_split\n",
    "X_train, X_val, y_train, y_val = train_test_split(X_train, y_data, test_size=0.2, random_state=8)"
   ]
  },
  {
   "cell_type": "markdown",
   "id": "a6c10d66-92b0-495b-b0c8-f1378399cc0a",
   "metadata": {},
   "source": [
    "**Dimension**"
   ]
  },
  {
   "cell_type": "code",
   "execution_count": 244,
   "id": "f59f49b5-9a5c-4e55-9acd-784f7a3cb4dc",
   "metadata": {},
   "outputs": [
    {
     "name": "stdout",
     "output_type": "stream",
     "text": [
      "(33020, 58)\n",
      "(8256, 58)\n",
      "(4970, 58)\n"
     ]
    }
   ],
   "source": [
    "print(X_train.shape)\n",
    "print(X_val.shape)\n",
    "print(X_test.shape)"
   ]
  },
  {
   "cell_type": "markdown",
   "id": "0d24e5f8-86cd-4b3e-aaf8-9f3feaa0e91d",
   "metadata": {},
   "source": [
    "**Target proportion**"
   ]
  },
  {
   "cell_type": "code",
   "execution_count": 245,
   "id": "b3607e80-c046-498e-84c2-efa27b886d91",
   "metadata": {},
   "outputs": [
    {
     "name": "stdout",
     "output_type": "stream",
     "text": [
      "drafted\n",
      "0.0    0.991763\n",
      "1.0    0.008237\n",
      "Name: proportion, dtype: float64\n",
      "drafted\n",
      "0.0    0.992127\n",
      "1.0    0.007873\n",
      "Name: proportion, dtype: float64\n"
     ]
    }
   ],
   "source": [
    "print(y_train.value_counts(normalize=True))\n",
    "print(y_val.value_counts(normalize=True))"
   ]
  },
  {
   "cell_type": "code",
   "execution_count": 246,
   "id": "e2c0e56a-e1e4-4232-ad1e-c041dcd18924",
   "metadata": {},
   "outputs": [],
   "source": [
    "# X_train.to_csv('../data/processed/X_train2.csv', index=False)\n",
    "# X_val.to_csv('../data/processed/X_val2.csv', index=False)\n",
    "# X_test.to_csv('../data/processed/X_test2.csv', index=False)\n",
    "# y_train.to_csv('../data/processed/y_train2.csv', index=False)\n",
    "# y_val.to_csv('../data/processed/y_val2.csv', index=False)"
   ]
  },
  {
   "cell_type": "markdown",
   "id": "422fd4ed-15cf-44de-a14b-0fa87509678a",
   "metadata": {},
   "source": [
    "### 6. Train RandomForest - Hyperparameter Tuning with RandomSearchCV"
   ]
  },
  {
   "cell_type": "markdown",
   "id": "cde217d4-d745-4cc0-8611-07c3b52132d9",
   "metadata": {},
   "source": [
    "**[6.1] Instantiate and fit the model**"
   ]
  },
  {
   "cell_type": "code",
   "execution_count": 247,
   "id": "8cb0018e-7bab-41e1-9496-68cc9b890470",
   "metadata": {},
   "outputs": [],
   "source": [
    "from sklearn.ensemble import RandomForestClassifier\n",
    "rf = RandomForestClassifier(random_state=8)"
   ]
  },
  {
   "cell_type": "markdown",
   "id": "c0459599-9549-4c7d-b9d6-21b852d373d5",
   "metadata": {},
   "source": [
    "**[6.2] Parameters dictionary**"
   ]
  },
  {
   "cell_type": "code",
   "execution_count": 248,
   "id": "74a61687-527e-4f6a-a8f6-b49705c2575c",
   "metadata": {},
   "outputs": [],
   "source": [
    "from scipy.stats import randint\n",
    "\n",
    "param_ran = {\n",
    "    'n_estimators': randint(5, 100),\n",
    "    'max_depth': randint(5, 30),\n",
    "    'min_samples_leaf': randint(10, 100),\n",
    "    'max_features': randint(2, 30)\n",
    "}"
   ]
  },
  {
   "cell_type": "markdown",
   "id": "d1108d1d-2110-435b-827d-203b104cc7ac",
   "metadata": {},
   "source": [
    "**[6.3] Instantiate and fit the hyperparameters wit Stratified KFold**"
   ]
  },
  {
   "cell_type": "code",
   "execution_count": 249,
   "id": "aa42bffe-15b9-45d8-9378-07012d4dba61",
   "metadata": {},
   "outputs": [],
   "source": [
    "from sklearn.model_selection import RandomizedSearchCV\n",
    "from sklearn.model_selection import StratifiedKFold\n",
    "skf = StratifiedKFold(n_splits=5, shuffle=True, random_state=8)\n",
    "ransearch = RandomizedSearchCV(rf, param_ran, cv=skf, random_state=8)"
   ]
  },
  {
   "cell_type": "code",
   "execution_count": 250,
   "id": "11d5e7d5-c7c6-4802-a149-7fea6626f4ef",
   "metadata": {},
   "outputs": [
    {
     "data": {
      "text/html": [
       "<style>#sk-container-id-7 {\n",
       "  /* Definition of color scheme common for light and dark mode */\n",
       "  --sklearn-color-text: black;\n",
       "  --sklearn-color-line: gray;\n",
       "  /* Definition of color scheme for unfitted estimators */\n",
       "  --sklearn-color-unfitted-level-0: #fff5e6;\n",
       "  --sklearn-color-unfitted-level-1: #f6e4d2;\n",
       "  --sklearn-color-unfitted-level-2: #ffe0b3;\n",
       "  --sklearn-color-unfitted-level-3: chocolate;\n",
       "  /* Definition of color scheme for fitted estimators */\n",
       "  --sklearn-color-fitted-level-0: #f0f8ff;\n",
       "  --sklearn-color-fitted-level-1: #d4ebff;\n",
       "  --sklearn-color-fitted-level-2: #b3dbfd;\n",
       "  --sklearn-color-fitted-level-3: cornflowerblue;\n",
       "\n",
       "  /* Specific color for light theme */\n",
       "  --sklearn-color-text-on-default-background: var(--sg-text-color, var(--theme-code-foreground, var(--jp-content-font-color1, black)));\n",
       "  --sklearn-color-background: var(--sg-background-color, var(--theme-background, var(--jp-layout-color0, white)));\n",
       "  --sklearn-color-border-box: var(--sg-text-color, var(--theme-code-foreground, var(--jp-content-font-color1, black)));\n",
       "  --sklearn-color-icon: #696969;\n",
       "\n",
       "  @media (prefers-color-scheme: dark) {\n",
       "    /* Redefinition of color scheme for dark theme */\n",
       "    --sklearn-color-text-on-default-background: var(--sg-text-color, var(--theme-code-foreground, var(--jp-content-font-color1, white)));\n",
       "    --sklearn-color-background: var(--sg-background-color, var(--theme-background, var(--jp-layout-color0, #111)));\n",
       "    --sklearn-color-border-box: var(--sg-text-color, var(--theme-code-foreground, var(--jp-content-font-color1, white)));\n",
       "    --sklearn-color-icon: #878787;\n",
       "  }\n",
       "}\n",
       "\n",
       "#sk-container-id-7 {\n",
       "  color: var(--sklearn-color-text);\n",
       "}\n",
       "\n",
       "#sk-container-id-7 pre {\n",
       "  padding: 0;\n",
       "}\n",
       "\n",
       "#sk-container-id-7 input.sk-hidden--visually {\n",
       "  border: 0;\n",
       "  clip: rect(1px 1px 1px 1px);\n",
       "  clip: rect(1px, 1px, 1px, 1px);\n",
       "  height: 1px;\n",
       "  margin: -1px;\n",
       "  overflow: hidden;\n",
       "  padding: 0;\n",
       "  position: absolute;\n",
       "  width: 1px;\n",
       "}\n",
       "\n",
       "#sk-container-id-7 div.sk-dashed-wrapped {\n",
       "  border: 1px dashed var(--sklearn-color-line);\n",
       "  margin: 0 0.4em 0.5em 0.4em;\n",
       "  box-sizing: border-box;\n",
       "  padding-bottom: 0.4em;\n",
       "  background-color: var(--sklearn-color-background);\n",
       "}\n",
       "\n",
       "#sk-container-id-7 div.sk-container {\n",
       "  /* jupyter's `normalize.less` sets `[hidden] { display: none; }`\n",
       "     but bootstrap.min.css set `[hidden] { display: none !important; }`\n",
       "     so we also need the `!important` here to be able to override the\n",
       "     default hidden behavior on the sphinx rendered scikit-learn.org.\n",
       "     See: https://github.com/scikit-learn/scikit-learn/issues/21755 */\n",
       "  display: inline-block !important;\n",
       "  position: relative;\n",
       "}\n",
       "\n",
       "#sk-container-id-7 div.sk-text-repr-fallback {\n",
       "  display: none;\n",
       "}\n",
       "\n",
       "div.sk-parallel-item,\n",
       "div.sk-serial,\n",
       "div.sk-item {\n",
       "  /* draw centered vertical line to link estimators */\n",
       "  background-image: linear-gradient(var(--sklearn-color-text-on-default-background), var(--sklearn-color-text-on-default-background));\n",
       "  background-size: 2px 100%;\n",
       "  background-repeat: no-repeat;\n",
       "  background-position: center center;\n",
       "}\n",
       "\n",
       "/* Parallel-specific style estimator block */\n",
       "\n",
       "#sk-container-id-7 div.sk-parallel-item::after {\n",
       "  content: \"\";\n",
       "  width: 100%;\n",
       "  border-bottom: 2px solid var(--sklearn-color-text-on-default-background);\n",
       "  flex-grow: 1;\n",
       "}\n",
       "\n",
       "#sk-container-id-7 div.sk-parallel {\n",
       "  display: flex;\n",
       "  align-items: stretch;\n",
       "  justify-content: center;\n",
       "  background-color: var(--sklearn-color-background);\n",
       "  position: relative;\n",
       "}\n",
       "\n",
       "#sk-container-id-7 div.sk-parallel-item {\n",
       "  display: flex;\n",
       "  flex-direction: column;\n",
       "}\n",
       "\n",
       "#sk-container-id-7 div.sk-parallel-item:first-child::after {\n",
       "  align-self: flex-end;\n",
       "  width: 50%;\n",
       "}\n",
       "\n",
       "#sk-container-id-7 div.sk-parallel-item:last-child::after {\n",
       "  align-self: flex-start;\n",
       "  width: 50%;\n",
       "}\n",
       "\n",
       "#sk-container-id-7 div.sk-parallel-item:only-child::after {\n",
       "  width: 0;\n",
       "}\n",
       "\n",
       "/* Serial-specific style estimator block */\n",
       "\n",
       "#sk-container-id-7 div.sk-serial {\n",
       "  display: flex;\n",
       "  flex-direction: column;\n",
       "  align-items: center;\n",
       "  background-color: var(--sklearn-color-background);\n",
       "  padding-right: 1em;\n",
       "  padding-left: 1em;\n",
       "}\n",
       "\n",
       "\n",
       "/* Toggleable style: style used for estimator/Pipeline/ColumnTransformer box that is\n",
       "clickable and can be expanded/collapsed.\n",
       "- Pipeline and ColumnTransformer use this feature and define the default style\n",
       "- Estimators will overwrite some part of the style using the `sk-estimator` class\n",
       "*/\n",
       "\n",
       "/* Pipeline and ColumnTransformer style (default) */\n",
       "\n",
       "#sk-container-id-7 div.sk-toggleable {\n",
       "  /* Default theme specific background. It is overwritten whether we have a\n",
       "  specific estimator or a Pipeline/ColumnTransformer */\n",
       "  background-color: var(--sklearn-color-background);\n",
       "}\n",
       "\n",
       "/* Toggleable label */\n",
       "#sk-container-id-7 label.sk-toggleable__label {\n",
       "  cursor: pointer;\n",
       "  display: block;\n",
       "  width: 100%;\n",
       "  margin-bottom: 0;\n",
       "  padding: 0.5em;\n",
       "  box-sizing: border-box;\n",
       "  text-align: center;\n",
       "}\n",
       "\n",
       "#sk-container-id-7 label.sk-toggleable__label-arrow:before {\n",
       "  /* Arrow on the left of the label */\n",
       "  content: \"▸\";\n",
       "  float: left;\n",
       "  margin-right: 0.25em;\n",
       "  color: var(--sklearn-color-icon);\n",
       "}\n",
       "\n",
       "#sk-container-id-7 label.sk-toggleable__label-arrow:hover:before {\n",
       "  color: var(--sklearn-color-text);\n",
       "}\n",
       "\n",
       "/* Toggleable content - dropdown */\n",
       "\n",
       "#sk-container-id-7 div.sk-toggleable__content {\n",
       "  max-height: 0;\n",
       "  max-width: 0;\n",
       "  overflow: hidden;\n",
       "  text-align: left;\n",
       "  /* unfitted */\n",
       "  background-color: var(--sklearn-color-unfitted-level-0);\n",
       "}\n",
       "\n",
       "#sk-container-id-7 div.sk-toggleable__content.fitted {\n",
       "  /* fitted */\n",
       "  background-color: var(--sklearn-color-fitted-level-0);\n",
       "}\n",
       "\n",
       "#sk-container-id-7 div.sk-toggleable__content pre {\n",
       "  margin: 0.2em;\n",
       "  border-radius: 0.25em;\n",
       "  color: var(--sklearn-color-text);\n",
       "  /* unfitted */\n",
       "  background-color: var(--sklearn-color-unfitted-level-0);\n",
       "}\n",
       "\n",
       "#sk-container-id-7 div.sk-toggleable__content.fitted pre {\n",
       "  /* unfitted */\n",
       "  background-color: var(--sklearn-color-fitted-level-0);\n",
       "}\n",
       "\n",
       "#sk-container-id-7 input.sk-toggleable__control:checked~div.sk-toggleable__content {\n",
       "  /* Expand drop-down */\n",
       "  max-height: 200px;\n",
       "  max-width: 100%;\n",
       "  overflow: auto;\n",
       "}\n",
       "\n",
       "#sk-container-id-7 input.sk-toggleable__control:checked~label.sk-toggleable__label-arrow:before {\n",
       "  content: \"▾\";\n",
       "}\n",
       "\n",
       "/* Pipeline/ColumnTransformer-specific style */\n",
       "\n",
       "#sk-container-id-7 div.sk-label input.sk-toggleable__control:checked~label.sk-toggleable__label {\n",
       "  color: var(--sklearn-color-text);\n",
       "  background-color: var(--sklearn-color-unfitted-level-2);\n",
       "}\n",
       "\n",
       "#sk-container-id-7 div.sk-label.fitted input.sk-toggleable__control:checked~label.sk-toggleable__label {\n",
       "  background-color: var(--sklearn-color-fitted-level-2);\n",
       "}\n",
       "\n",
       "/* Estimator-specific style */\n",
       "\n",
       "/* Colorize estimator box */\n",
       "#sk-container-id-7 div.sk-estimator input.sk-toggleable__control:checked~label.sk-toggleable__label {\n",
       "  /* unfitted */\n",
       "  background-color: var(--sklearn-color-unfitted-level-2);\n",
       "}\n",
       "\n",
       "#sk-container-id-7 div.sk-estimator.fitted input.sk-toggleable__control:checked~label.sk-toggleable__label {\n",
       "  /* fitted */\n",
       "  background-color: var(--sklearn-color-fitted-level-2);\n",
       "}\n",
       "\n",
       "#sk-container-id-7 div.sk-label label.sk-toggleable__label,\n",
       "#sk-container-id-7 div.sk-label label {\n",
       "  /* The background is the default theme color */\n",
       "  color: var(--sklearn-color-text-on-default-background);\n",
       "}\n",
       "\n",
       "/* On hover, darken the color of the background */\n",
       "#sk-container-id-7 div.sk-label:hover label.sk-toggleable__label {\n",
       "  color: var(--sklearn-color-text);\n",
       "  background-color: var(--sklearn-color-unfitted-level-2);\n",
       "}\n",
       "\n",
       "/* Label box, darken color on hover, fitted */\n",
       "#sk-container-id-7 div.sk-label.fitted:hover label.sk-toggleable__label.fitted {\n",
       "  color: var(--sklearn-color-text);\n",
       "  background-color: var(--sklearn-color-fitted-level-2);\n",
       "}\n",
       "\n",
       "/* Estimator label */\n",
       "\n",
       "#sk-container-id-7 div.sk-label label {\n",
       "  font-family: monospace;\n",
       "  font-weight: bold;\n",
       "  display: inline-block;\n",
       "  line-height: 1.2em;\n",
       "}\n",
       "\n",
       "#sk-container-id-7 div.sk-label-container {\n",
       "  text-align: center;\n",
       "}\n",
       "\n",
       "/* Estimator-specific */\n",
       "#sk-container-id-7 div.sk-estimator {\n",
       "  font-family: monospace;\n",
       "  border: 1px dotted var(--sklearn-color-border-box);\n",
       "  border-radius: 0.25em;\n",
       "  box-sizing: border-box;\n",
       "  margin-bottom: 0.5em;\n",
       "  /* unfitted */\n",
       "  background-color: var(--sklearn-color-unfitted-level-0);\n",
       "}\n",
       "\n",
       "#sk-container-id-7 div.sk-estimator.fitted {\n",
       "  /* fitted */\n",
       "  background-color: var(--sklearn-color-fitted-level-0);\n",
       "}\n",
       "\n",
       "/* on hover */\n",
       "#sk-container-id-7 div.sk-estimator:hover {\n",
       "  /* unfitted */\n",
       "  background-color: var(--sklearn-color-unfitted-level-2);\n",
       "}\n",
       "\n",
       "#sk-container-id-7 div.sk-estimator.fitted:hover {\n",
       "  /* fitted */\n",
       "  background-color: var(--sklearn-color-fitted-level-2);\n",
       "}\n",
       "\n",
       "/* Specification for estimator info (e.g. \"i\" and \"?\") */\n",
       "\n",
       "/* Common style for \"i\" and \"?\" */\n",
       "\n",
       ".sk-estimator-doc-link,\n",
       "a:link.sk-estimator-doc-link,\n",
       "a:visited.sk-estimator-doc-link {\n",
       "  float: right;\n",
       "  font-size: smaller;\n",
       "  line-height: 1em;\n",
       "  font-family: monospace;\n",
       "  background-color: var(--sklearn-color-background);\n",
       "  border-radius: 1em;\n",
       "  height: 1em;\n",
       "  width: 1em;\n",
       "  text-decoration: none !important;\n",
       "  margin-left: 1ex;\n",
       "  /* unfitted */\n",
       "  border: var(--sklearn-color-unfitted-level-1) 1pt solid;\n",
       "  color: var(--sklearn-color-unfitted-level-1);\n",
       "}\n",
       "\n",
       ".sk-estimator-doc-link.fitted,\n",
       "a:link.sk-estimator-doc-link.fitted,\n",
       "a:visited.sk-estimator-doc-link.fitted {\n",
       "  /* fitted */\n",
       "  border: var(--sklearn-color-fitted-level-1) 1pt solid;\n",
       "  color: var(--sklearn-color-fitted-level-1);\n",
       "}\n",
       "\n",
       "/* On hover */\n",
       "div.sk-estimator:hover .sk-estimator-doc-link:hover,\n",
       ".sk-estimator-doc-link:hover,\n",
       "div.sk-label-container:hover .sk-estimator-doc-link:hover,\n",
       ".sk-estimator-doc-link:hover {\n",
       "  /* unfitted */\n",
       "  background-color: var(--sklearn-color-unfitted-level-3);\n",
       "  color: var(--sklearn-color-background);\n",
       "  text-decoration: none;\n",
       "}\n",
       "\n",
       "div.sk-estimator.fitted:hover .sk-estimator-doc-link.fitted:hover,\n",
       ".sk-estimator-doc-link.fitted:hover,\n",
       "div.sk-label-container:hover .sk-estimator-doc-link.fitted:hover,\n",
       ".sk-estimator-doc-link.fitted:hover {\n",
       "  /* fitted */\n",
       "  background-color: var(--sklearn-color-fitted-level-3);\n",
       "  color: var(--sklearn-color-background);\n",
       "  text-decoration: none;\n",
       "}\n",
       "\n",
       "/* Span, style for the box shown on hovering the info icon */\n",
       ".sk-estimator-doc-link span {\n",
       "  display: none;\n",
       "  z-index: 9999;\n",
       "  position: relative;\n",
       "  font-weight: normal;\n",
       "  right: .2ex;\n",
       "  padding: .5ex;\n",
       "  margin: .5ex;\n",
       "  width: min-content;\n",
       "  min-width: 20ex;\n",
       "  max-width: 50ex;\n",
       "  color: var(--sklearn-color-text);\n",
       "  box-shadow: 2pt 2pt 4pt #999;\n",
       "  /* unfitted */\n",
       "  background: var(--sklearn-color-unfitted-level-0);\n",
       "  border: .5pt solid var(--sklearn-color-unfitted-level-3);\n",
       "}\n",
       "\n",
       ".sk-estimator-doc-link.fitted span {\n",
       "  /* fitted */\n",
       "  background: var(--sklearn-color-fitted-level-0);\n",
       "  border: var(--sklearn-color-fitted-level-3);\n",
       "}\n",
       "\n",
       ".sk-estimator-doc-link:hover span {\n",
       "  display: block;\n",
       "}\n",
       "\n",
       "/* \"?\"-specific style due to the `<a>` HTML tag */\n",
       "\n",
       "#sk-container-id-7 a.estimator_doc_link {\n",
       "  float: right;\n",
       "  font-size: 1rem;\n",
       "  line-height: 1em;\n",
       "  font-family: monospace;\n",
       "  background-color: var(--sklearn-color-background);\n",
       "  border-radius: 1rem;\n",
       "  height: 1rem;\n",
       "  width: 1rem;\n",
       "  text-decoration: none;\n",
       "  /* unfitted */\n",
       "  color: var(--sklearn-color-unfitted-level-1);\n",
       "  border: var(--sklearn-color-unfitted-level-1) 1pt solid;\n",
       "}\n",
       "\n",
       "#sk-container-id-7 a.estimator_doc_link.fitted {\n",
       "  /* fitted */\n",
       "  border: var(--sklearn-color-fitted-level-1) 1pt solid;\n",
       "  color: var(--sklearn-color-fitted-level-1);\n",
       "}\n",
       "\n",
       "/* On hover */\n",
       "#sk-container-id-7 a.estimator_doc_link:hover {\n",
       "  /* unfitted */\n",
       "  background-color: var(--sklearn-color-unfitted-level-3);\n",
       "  color: var(--sklearn-color-background);\n",
       "  text-decoration: none;\n",
       "}\n",
       "\n",
       "#sk-container-id-7 a.estimator_doc_link.fitted:hover {\n",
       "  /* fitted */\n",
       "  background-color: var(--sklearn-color-fitted-level-3);\n",
       "}\n",
       "</style><div id=\"sk-container-id-7\" class=\"sk-top-container\"><div class=\"sk-text-repr-fallback\"><pre>RandomizedSearchCV(cv=StratifiedKFold(n_splits=5, random_state=8, shuffle=True),\n",
       "                   estimator=RandomForestClassifier(random_state=8),\n",
       "                   param_distributions={&#x27;max_depth&#x27;: &lt;scipy.stats._distn_infrastructure.rv_discrete_frozen object at 0x000001F8569B9D90&gt;,\n",
       "                                        &#x27;max_features&#x27;: &lt;scipy.stats._distn_infrastructure.rv_discrete_frozen object at 0x000001F835FE8FD0&gt;,\n",
       "                                        &#x27;min_samples_leaf&#x27;: &lt;scipy.stats._distn_infrastructure.rv_discrete_frozen object at 0x000001F835FE9210&gt;,\n",
       "                                        &#x27;n_estimators&#x27;: &lt;scipy.stats._distn_infrastructure.rv_discrete_frozen object at 0x000001F853883590&gt;},\n",
       "                   random_state=8)</pre><b>In a Jupyter environment, please rerun this cell to show the HTML representation or trust the notebook. <br />On GitHub, the HTML representation is unable to render, please try loading this page with nbviewer.org.</b></div><div class=\"sk-container\" hidden><div class=\"sk-item sk-dashed-wrapped\"><div class=\"sk-label-container\"><div class=\"sk-label fitted sk-toggleable\"><input class=\"sk-toggleable__control sk-hidden--visually\" id=\"sk-estimator-id-15\" type=\"checkbox\" ><label for=\"sk-estimator-id-15\" class=\"sk-toggleable__label fitted sk-toggleable__label-arrow fitted\">&nbsp;&nbsp;RandomizedSearchCV<a class=\"sk-estimator-doc-link fitted\" rel=\"noreferrer\" target=\"_blank\" href=\"https://scikit-learn.org/1.5/modules/generated/sklearn.model_selection.RandomizedSearchCV.html\">?<span>Documentation for RandomizedSearchCV</span></a><span class=\"sk-estimator-doc-link fitted\">i<span>Fitted</span></span></label><div class=\"sk-toggleable__content fitted\"><pre>RandomizedSearchCV(cv=StratifiedKFold(n_splits=5, random_state=8, shuffle=True),\n",
       "                   estimator=RandomForestClassifier(random_state=8),\n",
       "                   param_distributions={&#x27;max_depth&#x27;: &lt;scipy.stats._distn_infrastructure.rv_discrete_frozen object at 0x000001F8569B9D90&gt;,\n",
       "                                        &#x27;max_features&#x27;: &lt;scipy.stats._distn_infrastructure.rv_discrete_frozen object at 0x000001F835FE8FD0&gt;,\n",
       "                                        &#x27;min_samples_leaf&#x27;: &lt;scipy.stats._distn_infrastructure.rv_discrete_frozen object at 0x000001F835FE9210&gt;,\n",
       "                                        &#x27;n_estimators&#x27;: &lt;scipy.stats._distn_infrastructure.rv_discrete_frozen object at 0x000001F853883590&gt;},\n",
       "                   random_state=8)</pre></div> </div></div><div class=\"sk-parallel\"><div class=\"sk-parallel-item\"><div class=\"sk-item\"><div class=\"sk-label-container\"><div class=\"sk-label fitted sk-toggleable\"><input class=\"sk-toggleable__control sk-hidden--visually\" id=\"sk-estimator-id-16\" type=\"checkbox\" ><label for=\"sk-estimator-id-16\" class=\"sk-toggleable__label fitted sk-toggleable__label-arrow fitted\">best_estimator_: RandomForestClassifier</label><div class=\"sk-toggleable__content fitted\"><pre>RandomForestClassifier(max_depth=8, max_features=22, min_samples_leaf=15,\n",
       "                       n_estimators=95, random_state=8)</pre></div> </div></div><div class=\"sk-serial\"><div class=\"sk-item\"><div class=\"sk-estimator fitted sk-toggleable\"><input class=\"sk-toggleable__control sk-hidden--visually\" id=\"sk-estimator-id-17\" type=\"checkbox\" ><label for=\"sk-estimator-id-17\" class=\"sk-toggleable__label fitted sk-toggleable__label-arrow fitted\">&nbsp;RandomForestClassifier<a class=\"sk-estimator-doc-link fitted\" rel=\"noreferrer\" target=\"_blank\" href=\"https://scikit-learn.org/1.5/modules/generated/sklearn.ensemble.RandomForestClassifier.html\">?<span>Documentation for RandomForestClassifier</span></a></label><div class=\"sk-toggleable__content fitted\"><pre>RandomForestClassifier(max_depth=8, max_features=22, min_samples_leaf=15,\n",
       "                       n_estimators=95, random_state=8)</pre></div> </div></div></div></div></div></div></div></div></div>"
      ],
      "text/plain": [
       "RandomizedSearchCV(cv=StratifiedKFold(n_splits=5, random_state=8, shuffle=True),\n",
       "                   estimator=RandomForestClassifier(random_state=8),\n",
       "                   param_distributions={'max_depth': <scipy.stats._distn_infrastructure.rv_discrete_frozen object at 0x000001F8569B9D90>,\n",
       "                                        'max_features': <scipy.stats._distn_infrastructure.rv_discrete_frozen object at 0x000001F835FE8FD0>,\n",
       "                                        'min_samples_leaf': <scipy.stats._distn_infrastructure.rv_discrete_frozen object at 0x000001F835FE9210>,\n",
       "                                        'n_estimators': <scipy.stats._distn_infrastructure.rv_discrete_frozen object at 0x000001F853883590>},\n",
       "                   random_state=8)"
      ]
     },
     "execution_count": 250,
     "metadata": {},
     "output_type": "execute_result"
    }
   ],
   "source": [
    "ransearch.fit(X_train, y_train)"
   ]
  },
  {
   "cell_type": "markdown",
   "id": "d76d4dce-52ab-47f3-9d6c-c3b11a84eb81",
   "metadata": {},
   "source": [
    "**[6.4] Display the best set of parameters**"
   ]
  },
  {
   "cell_type": "code",
   "execution_count": 251,
   "id": "1f579141-ea74-4f21-9fc3-25d736e4cfc8",
   "metadata": {},
   "outputs": [
    {
     "data": {
      "text/plain": [
       "{'max_depth': 8,\n",
       " 'max_features': 22,\n",
       " 'min_samples_leaf': 15,\n",
       " 'n_estimators': 95}"
      ]
     },
     "execution_count": 251,
     "metadata": {},
     "output_type": "execute_result"
    }
   ],
   "source": [
    "ransearch.best_params_"
   ]
  },
  {
   "cell_type": "markdown",
   "id": "bd0b2bd3-3928-430b-b5b0-3b56133851ad",
   "metadata": {},
   "source": [
    "**[6.5] Evaluation metrics for hyperparameters**"
   ]
  },
  {
   "cell_type": "code",
   "execution_count": 252,
   "id": "36d0b868-137b-42e3-bb5a-de68521d455c",
   "metadata": {},
   "outputs": [
    {
     "data": {
      "text/plain": [
       "np.float64(0.995336159903089)"
      ]
     },
     "execution_count": 252,
     "metadata": {},
     "output_type": "execute_result"
    }
   ],
   "source": [
    "ransearch.best_score_"
   ]
  },
  {
   "cell_type": "code",
   "execution_count": 253,
   "id": "8529fca0-2249-4f82-a45e-fc9fcb617815",
   "metadata": {
    "scrolled": true
   },
   "outputs": [
    {
     "name": "stdout",
     "output_type": "stream",
     "text": [
      "RanCV_Train: 0.9972\n",
      "RanCV_val: 0.9960\n"
     ]
    }
   ],
   "source": [
    "print(\"RanCV_Train:\", f'{ransearch.score(X_train, y_train):.4f}')\n",
    "print(\"RanCV_val:\", f'{ransearch.score(X_val, y_val):.4f}')"
   ]
  },
  {
   "cell_type": "markdown",
   "id": "18cdc26f-32d8-4639-b2b6-e9aba760b4d5",
   "metadata": {},
   "source": [
    "**[6.2] Make prediction on training data**"
   ]
  },
  {
   "cell_type": "code",
   "execution_count": 254,
   "id": "42631bcd-14e1-426e-8716-f229041bba0a",
   "metadata": {},
   "outputs": [],
   "source": [
    "y_train_pred = ransearch.best_estimator_.predict_proba(X_train)[:, 1]\n",
    "y_val_pred = ransearch.best_estimator_.predict_proba(X_val)[:, 1]"
   ]
  },
  {
   "cell_type": "markdown",
   "id": "d37a15e2-3799-4762-9c56-b3e69f8ab796",
   "metadata": {},
   "source": [
    "**[6.3] Performance metric - AUROC**"
   ]
  },
  {
   "cell_type": "code",
   "execution_count": 255,
   "id": "07788049-649b-46fe-914b-b1c99c303e63",
   "metadata": {},
   "outputs": [],
   "source": [
    "from sklearn.metrics import roc_auc_score, roc_curve, auc"
   ]
  },
  {
   "cell_type": "code",
   "execution_count": 256,
   "id": "940308b1-1dee-448b-b548-e95867956ec5",
   "metadata": {},
   "outputs": [
    {
     "name": "stdout",
     "output_type": "stream",
     "text": [
      "Train - AUROC:\n",
      " 0.9993\n",
      "Val - AUROC:\n",
      " 0.9988\n"
     ]
    }
   ],
   "source": [
    "print(\"Train - AUROC:\\n\", f'{roc_auc_score(y_train, y_train_pred):.4f}')\n",
    "print(\"Val - AUROC:\\n\", f'{roc_auc_score(y_val, y_val_pred):.4f}')"
   ]
  },
  {
   "cell_type": "markdown",
   "id": "896d4551-7976-42f7-be63-d51277dc4c05",
   "metadata": {},
   "source": [
    "**Plot the AUROC curve**"
   ]
  },
  {
   "cell_type": "code",
   "execution_count": 257,
   "id": "932264ff-8699-4942-9f9f-2bab0906132e",
   "metadata": {},
   "outputs": [
    {
     "data": {
      "image/png": "[encoded data removed]",
      "text/plain": [
       "<Figure size 640x480 with 1 Axes>"
      ]
     },
     "metadata": {},
     "output_type": "display_data"
    }
   ],
   "source": [
    "fpr, tpr, thresholds = roc_curve(y_val, y_val_pred) \n",
    "roc_auc = auc(fpr, tpr)\n",
    "plt.figure()  \n",
    "plt.plot(fpr, tpr, label='Val - ROC curve (area = %0.2f)' % roc_auc)\n",
    "plt.plot([0, 1], [0, 1], 'k--', label='Worst case')\n",
    "plt.xlim([0.0, 1.0])\n",
    "plt.ylim([0.0, 1.05])\n",
    "plt.xlabel('False Positive Rate')\n",
    "plt.ylabel('True Positive Rate')\n",
    "plt.title('(Validation) ROC Curve for NBA Draft')\n",
    "plt.legend()\n",
    "plt.show()"
   ]
  },
  {
   "cell_type": "markdown",
   "id": "5ffabfb5-e46f-4cc1-9ff3-016a0425d976",
   "metadata": {},
   "source": [
    "**[6.8] Predict on test data**"
   ]
  },
  {
   "cell_type": "code",
   "execution_count": 258,
   "id": "436cff4a-af07-4f6b-af15-29dd21279517",
   "metadata": {},
   "outputs": [
    {
     "name": "stdout",
     "output_type": "stream",
     "text": [
      "          drafted\n",
      "count  4970.00000\n",
      "mean      0.00396\n",
      "std       0.04495\n",
      "min       0.00000\n",
      "25%       0.00000\n",
      "50%       0.00000\n",
      "75%       0.00000\n",
      "max       0.86218\n"
     ]
    }
   ],
   "source": [
    "y_test_pred = ransearch.best_estimator_.predict_proba(X_test)[:, 1]\n",
    "\n",
    "#Dataframe for pred result\n",
    "y_test = df_test_cleaned[['player_id']].copy()\n",
    "y_pred = y_test\n",
    "y_pred.loc[:, 'drafted'] = y_test_pred\n",
    "\n",
    "print(y_pred.describe().round(5))\n",
    "\n",
    "y_pred = pd.DataFrame(y_pred)\n",
    "\n",
    "#Save the result to CSV file\n",
    "# y_pred.to_csv('../data/external/at1_pred_week2.3.csv', index=False)"
   ]
  },
  {
   "cell_type": "markdown",
   "id": "1cf979f2-2c5c-4aac-8b0c-6676847ca6e8",
   "metadata": {},
   "source": [
    "### 7. Feature Importance"
   ]
  },
  {
   "cell_type": "code",
   "execution_count": 259,
   "id": "a9b5487d-ae6b-4743-8932-1aac5e6b7f9c",
   "metadata": {},
   "outputs": [],
   "source": [
    "feature = ransearch.best_estimator_.feature_importances_"
   ]
  },
  {
   "cell_type": "code",
   "execution_count": 260,
   "id": "73ccc1a1-8105-4291-a530-04b0fefdc61e",
   "metadata": {},
   "outputs": [],
   "source": [
    "#Dataframe of feature importance\n",
    "feat_imp_rf_df = pd.DataFrame(\n",
    "    {'feature': X_train.columns,\n",
    "     'feature_importance': feature})"
   ]
  },
  {
   "cell_type": "code",
   "execution_count": 261,
   "id": "676f757a-824e-457f-818e-045aeb745d01",
   "metadata": {},
   "outputs": [],
   "source": [
    "#Sort the dataframe\n",
    "feat_imp_rf_df = feat_imp_rf_df.sort_values('feature_importance', ascending=False).reset_index(drop=True)\n",
    "# feat_imp_rf_df"
   ]
  },
  {
   "cell_type": "code",
   "execution_count": 262,
   "id": "e6a521b9-d73f-49e0-9a8f-d4a9b5d3da80",
   "metadata": {},
   "outputs": [
    {
     "data": {
      "text/html": [
       "\n",
       "<style>\n",
       "  #altair-viz-e625878be82241b7ad0e3118f747d556.vega-embed {\n",
       "    width: 100%;\n",
       "    display: flex;\n",
       "  }\n",
       "\n",
       "  #altair-viz-e625878be82241b7ad0e3118f747d556.vega-embed details,\n",
       "  #altair-viz-e625878be82241b7ad0e3118f747d556.vega-embed details summary {\n",
       "    position: relative;\n",
       "  }\n",
       "</style>\n",
       "<div id=\"altair-viz-e625878be82241b7ad0e3118f747d556\"></div>\n",
       "<script type=\"text/javascript\">\n",
       "  var VEGA_DEBUG = (typeof VEGA_DEBUG == \"undefined\") ? {} : VEGA_DEBUG;\n",
       "  (function(spec, embedOpt){\n",
       "    let outputDiv = document.currentScript.previousElementSibling;\n",
       "    if (outputDiv.id !== \"altair-viz-e625878be82241b7ad0e3118f747d556\") {\n",
       "      outputDiv = document.getElementById(\"altair-viz-e625878be82241b7ad0e3118f747d556\");\n",
       "    }\n",
       "    const paths = {\n",
       "      \"vega\": \"https://cdn.jsdelivr.net/npm/vega@5?noext\",\n",
       "      \"vega-lib\": \"https://cdn.jsdelivr.net/npm/vega-lib?noext\",\n",
       "      \"vega-lite\": \"https://cdn.jsdelivr.net/npm/vega-lite@5.20.1?noext\",\n",
       "      \"vega-embed\": \"https://cdn.jsdelivr.net/npm/vega-embed@6?noext\",\n",
       "    };\n",
       "\n",
       "    function maybeLoadScript(lib, version) {\n",
       "      var key = `${lib.replace(\"-\", \"\")}_version`;\n",
       "      return (VEGA_DEBUG[key] == version) ?\n",
       "        Promise.resolve(paths[lib]) :\n",
       "        new Promise(function(resolve, reject) {\n",
       "          var s = document.createElement('script');\n",
       "          document.getElementsByTagName(\"head\")[0].appendChild(s);\n",
       "          s.async = true;\n",
       "          s.onload = () => {\n",
       "            VEGA_DEBUG[key] = version;\n",
       "            return resolve(paths[lib]);\n",
       "          };\n",
       "          s.onerror = () => reject(`Error loading script: ${paths[lib]}`);\n",
       "          s.src = paths[lib];\n",
       "        });\n",
       "    }\n",
       "\n",
       "    function showError(err) {\n",
       "      outputDiv.innerHTML = `<div class=\"error\" style=\"color:red;\">${err}</div>`;\n",
       "      throw err;\n",
       "    }\n",
       "\n",
       "    function displayChart(vegaEmbed) {\n",
       "      vegaEmbed(outputDiv, spec, embedOpt)\n",
       "        .catch(err => showError(`Javascript Error: ${err.message}<br>This usually means there's a typo in your chart specification. See the javascript console for the full traceback.`));\n",
       "    }\n",
       "\n",
       "    if(typeof define === \"function\" && define.amd) {\n",
       "      requirejs.config({paths});\n",
       "      require([\"vega-embed\"], displayChart, err => showError(`Error loading script: ${err.message}`));\n",
       "    } else {\n",
       "      maybeLoadScript(\"vega\", \"5\")\n",
       "        .then(() => maybeLoadScript(\"vega-lite\", \"5.20.1\"))\n",
       "        .then(() => maybeLoadScript(\"vega-embed\", \"6\"))\n",
       "        .catch(showError)\n",
       "        .then(() => displayChart(vegaEmbed));\n",
       "    }\n",
       "  })({\"config\": {\"view\": {\"continuousWidth\": 300, \"continuousHeight\": 300}}, \"data\": {\"name\": \"data-a89b93d5ebb21a6a5984d50309a82bce\"}, \"mark\": {\"type\": \"bar\"}, \"encoding\": {\"tooltip\": [{\"field\": \"feature\", \"type\": \"nominal\"}, {\"field\": \"feature_importance\", \"type\": \"quantitative\"}], \"x\": {\"field\": \"feature_importance\", \"type\": \"quantitative\"}, \"y\": {\"field\": \"feature\", \"sort\": \"-x\", \"type\": \"nominal\"}}, \"$schema\": \"https://vega.github.io/schema/vega-lite/v5.20.1.json\", \"datasets\": {\"data-a89b93d5ebb21a6a5984d50309a82bce\": [{\"feature\": \"pick\", \"feature_importance\": 0.23771125913073723}, {\"feature\": \"Picked\", \"feature_importance\": 0.21640220324141068}, {\"feature\": \"yr_Sr\", \"feature_importance\": 0.08765110468013114}, {\"feature\": \"porpag\", \"feature_importance\": 0.07601788405049618}, {\"feature\": \"Rec_Rank\", \"feature_importance\": 0.054190472654444405}, {\"feature\": \"dporpag\", \"feature_importance\": 0.04230736877446135}, {\"feature\": \"pts\", \"feature_importance\": 0.0422112495998536}, {\"feature\": \"twoPA\", \"feature_importance\": 0.035943929027874785}, {\"feature\": \"stops\", \"feature_importance\": 0.03259992268115656}, {\"feature\": \"adjoe\", \"feature_importance\": 0.015089146929528}, {\"feature\": \"ogbpm\", \"feature_importance\": 0.012684009858686444}, {\"feature\": \"FTA\", \"feature_importance\": 0.009890853585664883}, {\"feature\": \"twoPM\", \"feature_importance\": 0.009764659680823158}, {\"feature\": \"bpm\", \"feature_importance\": 0.009517457812758735}, {\"feature\": \"gbpm\", \"feature_importance\": 0.006505114698661008}, {\"feature\": \"midmade_midmiss\", \"feature_importance\": 0.0064259279826762335}, {\"feature\": \"rimmade_rimmiss\", \"feature_importance\": 0.006253957830418999}, {\"feature\": \"FTM\", \"feature_importance\": 0.006136172368997233}, {\"feature\": \"mp\", \"feature_importance\": 0.005252230549786141}, {\"feature\": \"usg\", \"feature_importance\": 0.004971153187159582}, {\"feature\": \"rimmade\", \"feature_importance\": 0.004925044375321558}, {\"feature\": \"dunksmiss_dunksmade\", \"feature_importance\": 0.0048530419994751925}, {\"feature\": \"obpm\", \"feature_importance\": 0.0033869650916693015}, {\"feature\": \"TPM\", \"feature_importance\": 0.0033834250512332032}, {\"feature\": \"dbpm\", \"feature_importance\": 0.003230611557723498}, {\"feature\": \"twoP_per\", \"feature_importance\": 0.0030967877423011348}, {\"feature\": \"dunksmade\", \"feature_importance\": 0.003083928109410364}, {\"feature\": \"TP_per\", \"feature_importance\": 0.0030818901976053443}, {\"feature\": \"FT_per\", \"feature_importance\": 0.002920306207683115}, {\"feature\": \"stl_per\", \"feature_importance\": 0.0027598435930884643}, {\"feature\": \"Ortg\", \"feature_importance\": 0.0026990594509536062}, {\"feature\": \"adrtg\", \"feature_importance\": 0.0024419391979882943}, {\"feature\": \"stl\", \"feature_importance\": 0.0023817330280576925}, {\"feature\": \"oreb\", \"feature_importance\": 0.0023201823357504123}, {\"feature\": \"yr_Jr\", \"feature_importance\": 0.0023201191720277113}, {\"feature\": \"ORB_per\", \"feature_importance\": 0.0022685608471147405}, {\"feature\": \"rim_ratio\", \"feature_importance\": 0.0022241444826542403}, {\"feature\": \"blk\", \"feature_importance\": 0.002203196391425898}, {\"feature\": \"AST_per\", \"feature_importance\": 0.002065039306726366}, {\"feature\": \"midmade\", \"feature_importance\": 0.002025013539490652}, {\"feature\": \"TPA\", \"feature_importance\": 0.0019714273348698428}, {\"feature\": \"dreb\", \"feature_importance\": 0.0019202162977426925}, {\"feature\": \"TO_per\", \"feature_importance\": 0.0018736993878276942}, {\"feature\": \"ast_tov\", \"feature_importance\": 0.001751487727673843}, {\"feature\": \"ast\", \"feature_importance\": 0.0016788671207045413}, {\"feature\": \"TS_per\", \"feature_importance\": 0.0016706576923463585}, {\"feature\": \"drtg\", \"feature_importance\": 0.0016173761686877376}, {\"feature\": \"mid_ratio\", \"feature_importance\": 0.0015309063604510126}, {\"feature\": \"treb\", \"feature_importance\": 0.0015098120432187174}, {\"feature\": \"Min_per\", \"feature_importance\": 0.0015026464417780883}, {\"feature\": \"GP\", \"feature_importance\": 0.0014258097937165245}, {\"feature\": \"DRB_per\", \"feature_importance\": 0.0013842086929667203}, {\"feature\": \"eFG\", \"feature_importance\": 0.0013424551394915047}, {\"feature\": \"dgbpm\", \"feature_importance\": 0.0013154445959715727}, {\"feature\": \"year\", \"feature_importance\": 0.001095736544375206}, {\"feature\": \"blk_per\", \"feature_importance\": 0.0006528478478816148}, {\"feature\": \"yr_So\", \"feature_importance\": 0.000559490806869266}, {\"feature\": \"Recruited\", \"feature_importance\": 0.0}]}}, {\"mode\": \"vega-lite\"});\n",
       "</script>"
      ],
      "text/plain": [
       "alt.Chart(...)"
      ]
     },
     "execution_count": 262,
     "metadata": {},
     "output_type": "execute_result"
    }
   ],
   "source": [
    "#Visualize the feature importance\n",
    "import altair as alt\n",
    "\n",
    "alt.Chart(feat_imp_rf_df).mark_bar().encode(\n",
    "    x='feature_importance',\n",
    "    y=alt.Y(\"feature\", sort='-x'),\n",
    "    tooltip=['feature','feature_importance']\n",
    ")"
   ]
  },
  {
   "cell_type": "markdown",
   "id": "f9042f45-066f-4819-a9ee-6d4d46476d29",
   "metadata": {},
   "source": [
    "### 8. Feature Engineering"
   ]
  },
  {
   "attachments": {},
   "cell_type": "markdown",
   "id": "2dc1709d-03a2-4c61-90c6-8e7e20c79d38",
   "metadata": {},
   "source": [
    "* Based on feature importance done in the previous experiment, the least significant features will be excluded in this experiment."
   ]
  },
  {
   "cell_type": "code",
   "execution_count": 263,
   "id": "515be1b9-020d-40d7-9f26-f691ceb4fa06",
   "metadata": {},
   "outputs": [
    {
     "data": {
      "text/plain": [
       "Index(['yr_Jr', 'yr_So', 'yr_Sr', 'GP', 'Min_per', 'Ortg', 'usg', 'eFG',\n",
       "       'TS_per', 'ORB_per', 'DRB_per', 'AST_per', 'TO_per', 'FTM', 'FTA',\n",
       "       'FT_per', 'twoPM', 'twoPA', 'twoP_per', 'TPM', 'TPA', 'TP_per',\n",
       "       'blk_per', 'stl_per', 'porpag', 'adjoe', 'year', 'Rec_Rank', 'ast_tov',\n",
       "       'rimmade', 'rimmade_rimmiss', 'midmade', 'midmade_midmiss', 'rim_ratio',\n",
       "       'mid_ratio', 'dunksmade', 'dunksmiss_dunksmade', 'pick', 'drtg',\n",
       "       'adrtg', 'dporpag', 'stops', 'bpm', 'obpm', 'dbpm', 'gbpm', 'mp',\n",
       "       'ogbpm', 'dgbpm', 'oreb', 'dreb', 'treb', 'ast', 'stl', 'blk', 'pts',\n",
       "       'Picked', 'Recruited'],\n",
       "      dtype='object')"
      ]
     },
     "execution_count": 263,
     "metadata": {},
     "output_type": "execute_result"
    }
   ],
   "source": [
    "#list the features\n",
    "features_train.columns"
   ]
  },
  {
   "cell_type": "code",
   "execution_count": 264,
   "id": "7ebda87c-f81f-4d1f-b94a-68d512fcbd46",
   "metadata": {},
   "outputs": [],
   "source": [
    "to_keep = ['pick', 'Picked', 'yr_Jr', 'yr_So', 'yr_Sr', 'porpag', 'dporpag', \n",
    "            'Rec_Rank', 'pts', 'stops', 'twoPA', 'adjoe', 'ogbpm', 'FTA',\n",
    "           'twoPM', 'bpm',  'gbpm', 'midmade_midmiss', 'rimmade_rimmiss',\n",
    "           'FTM', 'mp', 'usg', 'rimmade', 'dunksmiss_dunksmade', 'obpm', \n",
    "           'TPM', 'dbpm', 'twoP_per', 'dunksmade', 'TP_per']"
   ]
  },
  {
   "cell_type": "code",
   "execution_count": 265,
   "id": "fe75090c-094d-481c-ba1a-95565c658c4e",
   "metadata": {},
   "outputs": [],
   "source": [
    "X_train = features_train[to_keep]\n",
    "X_test = features_test[to_keep]"
   ]
  },
  {
   "cell_type": "markdown",
   "id": "e55a405c-5ca1-462d-9a04-4fbaf484ee0c",
   "metadata": {},
   "source": [
    "**Import package and split the data**"
   ]
  },
  {
   "cell_type": "code",
   "execution_count": 266,
   "id": "5892fa64-76bc-4f96-b6c4-5aea95e24008",
   "metadata": {},
   "outputs": [],
   "source": [
    "from sklearn.model_selection import train_test_split\n",
    "X_train, X_val, y_train, y_val = train_test_split(X_train, y, test_size=0.2, random_state=8)"
   ]
  },
  {
   "cell_type": "markdown",
   "id": "f57a414f-1eeb-416f-8c0e-28f61dec2ffb",
   "metadata": {},
   "source": [
    "**Dimension**"
   ]
  },
  {
   "cell_type": "code",
   "execution_count": 267,
   "id": "5421d1e4-8c3d-4778-b4db-64cf995e890d",
   "metadata": {},
   "outputs": [
    {
     "name": "stdout",
     "output_type": "stream",
     "text": [
      "(33020, 30)\n",
      "(8256, 30)\n",
      "(4970, 30)\n"
     ]
    }
   ],
   "source": [
    "print(X_train.shape)\n",
    "print(X_val.shape)\n",
    "print(X_test.shape)"
   ]
  },
  {
   "cell_type": "markdown",
   "id": "d89ff351-c6c3-46df-bbcc-2e84dfc88ef1",
   "metadata": {},
   "source": [
    "**Target proportion**"
   ]
  },
  {
   "cell_type": "code",
   "execution_count": 268,
   "id": "e1c5eb2c-2b64-4f0d-92e1-54ce98ced602",
   "metadata": {},
   "outputs": [
    {
     "name": "stdout",
     "output_type": "stream",
     "text": [
      "drafted\n",
      "0.0    0.991763\n",
      "1.0    0.008237\n",
      "Name: proportion, dtype: float64\n",
      "drafted\n",
      "0.0    0.992127\n",
      "1.0    0.007873\n",
      "Name: proportion, dtype: float64\n"
     ]
    }
   ],
   "source": [
    "print(y_train.value_counts(normalize=True))\n",
    "print(y_val.value_counts(normalize=True))"
   ]
  },
  {
   "cell_type": "code",
   "execution_count": 269,
   "id": "ec8ad669-d69e-4382-be05-aeb6aba32a19",
   "metadata": {},
   "outputs": [],
   "source": [
    "y_train = y_train.values.ravel()\n",
    "y_val = y_val.values.ravel()"
   ]
  },
  {
   "cell_type": "markdown",
   "id": "4c8986cc-0932-4bf9-9d71-34cfc96ba204",
   "metadata": {},
   "source": [
    "### 9. Train RandomForest - Hyperparameter Tuning with RandomSearchCV"
   ]
  },
  {
   "cell_type": "markdown",
   "id": "d74fa735-f8c8-4ab3-85d5-05f86653c6e5",
   "metadata": {},
   "source": [
    "**[9.1] Instantiate and fit the model**"
   ]
  },
  {
   "cell_type": "code",
   "execution_count": 270,
   "id": "abd3a66b-bc08-44b4-bc5c-5c027b5bff3f",
   "metadata": {},
   "outputs": [],
   "source": [
    "from sklearn.ensemble import RandomForestClassifier\n",
    "rf2 = RandomForestClassifier(random_state=8)"
   ]
  },
  {
   "cell_type": "markdown",
   "id": "86f0e41b-f0c2-4929-aad1-2f48b3d55dcb",
   "metadata": {},
   "source": [
    "**[9.2] Parameters dictionary**"
   ]
  },
  {
   "cell_type": "code",
   "execution_count": 271,
   "id": "224ead40-5375-419b-8342-f5db2091a066",
   "metadata": {},
   "outputs": [],
   "source": [
    "from scipy.stats import randint\n",
    "\n",
    "params = {\n",
    "    'n_estimators': randint(5, 100),\n",
    "    'max_depth': randint(5, 30),\n",
    "    'min_samples_leaf': randint(10, 100),\n",
    "    'max_features': randint(2, 30)\n",
    "}"
   ]
  },
  {
   "cell_type": "markdown",
   "id": "c151b9f5-63f5-45ce-a22d-6feece2b06e9",
   "metadata": {},
   "source": [
    "**[9.3] Instantiate and fit the hyperparameters wit Stratified KFold**"
   ]
  },
  {
   "cell_type": "code",
   "execution_count": 272,
   "id": "790cc9b9-0d76-48b1-807c-0c9794232347",
   "metadata": {},
   "outputs": [],
   "source": [
    "from sklearn.model_selection import RandomizedSearchCV\n",
    "from sklearn.model_selection import StratifiedKFold\n",
    "skf = StratifiedKFold(n_splits=5, shuffle=True, random_state=8)\n",
    "ransearch2 = RandomizedSearchCV(rf2, params, cv=skf, random_state=8)"
   ]
  },
  {
   "cell_type": "code",
   "execution_count": 273,
   "id": "7f90ded4-e8e6-4c6b-8f88-5d22e5af3b72",
   "metadata": {},
   "outputs": [
    {
     "data": {
      "text/html": [
       "<style>#sk-container-id-8 {\n",
       "  /* Definition of color scheme common for light and dark mode */\n",
       "  --sklearn-color-text: black;\n",
       "  --sklearn-color-line: gray;\n",
       "  /* Definition of color scheme for unfitted estimators */\n",
       "  --sklearn-color-unfitted-level-0: #fff5e6;\n",
       "  --sklearn-color-unfitted-level-1: #f6e4d2;\n",
       "  --sklearn-color-unfitted-level-2: #ffe0b3;\n",
       "  --sklearn-color-unfitted-level-3: chocolate;\n",
       "  /* Definition of color scheme for fitted estimators */\n",
       "  --sklearn-color-fitted-level-0: #f0f8ff;\n",
       "  --sklearn-color-fitted-level-1: #d4ebff;\n",
       "  --sklearn-color-fitted-level-2: #b3dbfd;\n",
       "  --sklearn-color-fitted-level-3: cornflowerblue;\n",
       "\n",
       "  /* Specific color for light theme */\n",
       "  --sklearn-color-text-on-default-background: var(--sg-text-color, var(--theme-code-foreground, var(--jp-content-font-color1, black)));\n",
       "  --sklearn-color-background: var(--sg-background-color, var(--theme-background, var(--jp-layout-color0, white)));\n",
       "  --sklearn-color-border-box: var(--sg-text-color, var(--theme-code-foreground, var(--jp-content-font-color1, black)));\n",
       "  --sklearn-color-icon: #696969;\n",
       "\n",
       "  @media (prefers-color-scheme: dark) {\n",
       "    /* Redefinition of color scheme for dark theme */\n",
       "    --sklearn-color-text-on-default-background: var(--sg-text-color, var(--theme-code-foreground, var(--jp-content-font-color1, white)));\n",
       "    --sklearn-color-background: var(--sg-background-color, var(--theme-background, var(--jp-layout-color0, #111)));\n",
       "    --sklearn-color-border-box: var(--sg-text-color, var(--theme-code-foreground, var(--jp-content-font-color1, white)));\n",
       "    --sklearn-color-icon: #878787;\n",
       "  }\n",
       "}\n",
       "\n",
       "#sk-container-id-8 {\n",
       "  color: var(--sklearn-color-text);\n",
       "}\n",
       "\n",
       "#sk-container-id-8 pre {\n",
       "  padding: 0;\n",
       "}\n",
       "\n",
       "#sk-container-id-8 input.sk-hidden--visually {\n",
       "  border: 0;\n",
       "  clip: rect(1px 1px 1px 1px);\n",
       "  clip: rect(1px, 1px, 1px, 1px);\n",
       "  height: 1px;\n",
       "  margin: -1px;\n",
       "  overflow: hidden;\n",
       "  padding: 0;\n",
       "  position: absolute;\n",
       "  width: 1px;\n",
       "}\n",
       "\n",
       "#sk-container-id-8 div.sk-dashed-wrapped {\n",
       "  border: 1px dashed var(--sklearn-color-line);\n",
       "  margin: 0 0.4em 0.5em 0.4em;\n",
       "  box-sizing: border-box;\n",
       "  padding-bottom: 0.4em;\n",
       "  background-color: var(--sklearn-color-background);\n",
       "}\n",
       "\n",
       "#sk-container-id-8 div.sk-container {\n",
       "  /* jupyter's `normalize.less` sets `[hidden] { display: none; }`\n",
       "     but bootstrap.min.css set `[hidden] { display: none !important; }`\n",
       "     so we also need the `!important` here to be able to override the\n",
       "     default hidden behavior on the sphinx rendered scikit-learn.org.\n",
       "     See: https://github.com/scikit-learn/scikit-learn/issues/21755 */\n",
       "  display: inline-block !important;\n",
       "  position: relative;\n",
       "}\n",
       "\n",
       "#sk-container-id-8 div.sk-text-repr-fallback {\n",
       "  display: none;\n",
       "}\n",
       "\n",
       "div.sk-parallel-item,\n",
       "div.sk-serial,\n",
       "div.sk-item {\n",
       "  /* draw centered vertical line to link estimators */\n",
       "  background-image: linear-gradient(var(--sklearn-color-text-on-default-background), var(--sklearn-color-text-on-default-background));\n",
       "  background-size: 2px 100%;\n",
       "  background-repeat: no-repeat;\n",
       "  background-position: center center;\n",
       "}\n",
       "\n",
       "/* Parallel-specific style estimator block */\n",
       "\n",
       "#sk-container-id-8 div.sk-parallel-item::after {\n",
       "  content: \"\";\n",
       "  width: 100%;\n",
       "  border-bottom: 2px solid var(--sklearn-color-text-on-default-background);\n",
       "  flex-grow: 1;\n",
       "}\n",
       "\n",
       "#sk-container-id-8 div.sk-parallel {\n",
       "  display: flex;\n",
       "  align-items: stretch;\n",
       "  justify-content: center;\n",
       "  background-color: var(--sklearn-color-background);\n",
       "  position: relative;\n",
       "}\n",
       "\n",
       "#sk-container-id-8 div.sk-parallel-item {\n",
       "  display: flex;\n",
       "  flex-direction: column;\n",
       "}\n",
       "\n",
       "#sk-container-id-8 div.sk-parallel-item:first-child::after {\n",
       "  align-self: flex-end;\n",
       "  width: 50%;\n",
       "}\n",
       "\n",
       "#sk-container-id-8 div.sk-parallel-item:last-child::after {\n",
       "  align-self: flex-start;\n",
       "  width: 50%;\n",
       "}\n",
       "\n",
       "#sk-container-id-8 div.sk-parallel-item:only-child::after {\n",
       "  width: 0;\n",
       "}\n",
       "\n",
       "/* Serial-specific style estimator block */\n",
       "\n",
       "#sk-container-id-8 div.sk-serial {\n",
       "  display: flex;\n",
       "  flex-direction: column;\n",
       "  align-items: center;\n",
       "  background-color: var(--sklearn-color-background);\n",
       "  padding-right: 1em;\n",
       "  padding-left: 1em;\n",
       "}\n",
       "\n",
       "\n",
       "/* Toggleable style: style used for estimator/Pipeline/ColumnTransformer box that is\n",
       "clickable and can be expanded/collapsed.\n",
       "- Pipeline and ColumnTransformer use this feature and define the default style\n",
       "- Estimators will overwrite some part of the style using the `sk-estimator` class\n",
       "*/\n",
       "\n",
       "/* Pipeline and ColumnTransformer style (default) */\n",
       "\n",
       "#sk-container-id-8 div.sk-toggleable {\n",
       "  /* Default theme specific background. It is overwritten whether we have a\n",
       "  specific estimator or a Pipeline/ColumnTransformer */\n",
       "  background-color: var(--sklearn-color-background);\n",
       "}\n",
       "\n",
       "/* Toggleable label */\n",
       "#sk-container-id-8 label.sk-toggleable__label {\n",
       "  cursor: pointer;\n",
       "  display: block;\n",
       "  width: 100%;\n",
       "  margin-bottom: 0;\n",
       "  padding: 0.5em;\n",
       "  box-sizing: border-box;\n",
       "  text-align: center;\n",
       "}\n",
       "\n",
       "#sk-container-id-8 label.sk-toggleable__label-arrow:before {\n",
       "  /* Arrow on the left of the label */\n",
       "  content: \"▸\";\n",
       "  float: left;\n",
       "  margin-right: 0.25em;\n",
       "  color: var(--sklearn-color-icon);\n",
       "}\n",
       "\n",
       "#sk-container-id-8 label.sk-toggleable__label-arrow:hover:before {\n",
       "  color: var(--sklearn-color-text);\n",
       "}\n",
       "\n",
       "/* Toggleable content - dropdown */\n",
       "\n",
       "#sk-container-id-8 div.sk-toggleable__content {\n",
       "  max-height: 0;\n",
       "  max-width: 0;\n",
       "  overflow: hidden;\n",
       "  text-align: left;\n",
       "  /* unfitted */\n",
       "  background-color: var(--sklearn-color-unfitted-level-0);\n",
       "}\n",
       "\n",
       "#sk-container-id-8 div.sk-toggleable__content.fitted {\n",
       "  /* fitted */\n",
       "  background-color: var(--sklearn-color-fitted-level-0);\n",
       "}\n",
       "\n",
       "#sk-container-id-8 div.sk-toggleable__content pre {\n",
       "  margin: 0.2em;\n",
       "  border-radius: 0.25em;\n",
       "  color: var(--sklearn-color-text);\n",
       "  /* unfitted */\n",
       "  background-color: var(--sklearn-color-unfitted-level-0);\n",
       "}\n",
       "\n",
       "#sk-container-id-8 div.sk-toggleable__content.fitted pre {\n",
       "  /* unfitted */\n",
       "  background-color: var(--sklearn-color-fitted-level-0);\n",
       "}\n",
       "\n",
       "#sk-container-id-8 input.sk-toggleable__control:checked~div.sk-toggleable__content {\n",
       "  /* Expand drop-down */\n",
       "  max-height: 200px;\n",
       "  max-width: 100%;\n",
       "  overflow: auto;\n",
       "}\n",
       "\n",
       "#sk-container-id-8 input.sk-toggleable__control:checked~label.sk-toggleable__label-arrow:before {\n",
       "  content: \"▾\";\n",
       "}\n",
       "\n",
       "/* Pipeline/ColumnTransformer-specific style */\n",
       "\n",
       "#sk-container-id-8 div.sk-label input.sk-toggleable__control:checked~label.sk-toggleable__label {\n",
       "  color: var(--sklearn-color-text);\n",
       "  background-color: var(--sklearn-color-unfitted-level-2);\n",
       "}\n",
       "\n",
       "#sk-container-id-8 div.sk-label.fitted input.sk-toggleable__control:checked~label.sk-toggleable__label {\n",
       "  background-color: var(--sklearn-color-fitted-level-2);\n",
       "}\n",
       "\n",
       "/* Estimator-specific style */\n",
       "\n",
       "/* Colorize estimator box */\n",
       "#sk-container-id-8 div.sk-estimator input.sk-toggleable__control:checked~label.sk-toggleable__label {\n",
       "  /* unfitted */\n",
       "  background-color: var(--sklearn-color-unfitted-level-2);\n",
       "}\n",
       "\n",
       "#sk-container-id-8 div.sk-estimator.fitted input.sk-toggleable__control:checked~label.sk-toggleable__label {\n",
       "  /* fitted */\n",
       "  background-color: var(--sklearn-color-fitted-level-2);\n",
       "}\n",
       "\n",
       "#sk-container-id-8 div.sk-label label.sk-toggleable__label,\n",
       "#sk-container-id-8 div.sk-label label {\n",
       "  /* The background is the default theme color */\n",
       "  color: var(--sklearn-color-text-on-default-background);\n",
       "}\n",
       "\n",
       "/* On hover, darken the color of the background */\n",
       "#sk-container-id-8 div.sk-label:hover label.sk-toggleable__label {\n",
       "  color: var(--sklearn-color-text);\n",
       "  background-color: var(--sklearn-color-unfitted-level-2);\n",
       "}\n",
       "\n",
       "/* Label box, darken color on hover, fitted */\n",
       "#sk-container-id-8 div.sk-label.fitted:hover label.sk-toggleable__label.fitted {\n",
       "  color: var(--sklearn-color-text);\n",
       "  background-color: var(--sklearn-color-fitted-level-2);\n",
       "}\n",
       "\n",
       "/* Estimator label */\n",
       "\n",
       "#sk-container-id-8 div.sk-label label {\n",
       "  font-family: monospace;\n",
       "  font-weight: bold;\n",
       "  display: inline-block;\n",
       "  line-height: 1.2em;\n",
       "}\n",
       "\n",
       "#sk-container-id-8 div.sk-label-container {\n",
       "  text-align: center;\n",
       "}\n",
       "\n",
       "/* Estimator-specific */\n",
       "#sk-container-id-8 div.sk-estimator {\n",
       "  font-family: monospace;\n",
       "  border: 1px dotted var(--sklearn-color-border-box);\n",
       "  border-radius: 0.25em;\n",
       "  box-sizing: border-box;\n",
       "  margin-bottom: 0.5em;\n",
       "  /* unfitted */\n",
       "  background-color: var(--sklearn-color-unfitted-level-0);\n",
       "}\n",
       "\n",
       "#sk-container-id-8 div.sk-estimator.fitted {\n",
       "  /* fitted */\n",
       "  background-color: var(--sklearn-color-fitted-level-0);\n",
       "}\n",
       "\n",
       "/* on hover */\n",
       "#sk-container-id-8 div.sk-estimator:hover {\n",
       "  /* unfitted */\n",
       "  background-color: var(--sklearn-color-unfitted-level-2);\n",
       "}\n",
       "\n",
       "#sk-container-id-8 div.sk-estimator.fitted:hover {\n",
       "  /* fitted */\n",
       "  background-color: var(--sklearn-color-fitted-level-2);\n",
       "}\n",
       "\n",
       "/* Specification for estimator info (e.g. \"i\" and \"?\") */\n",
       "\n",
       "/* Common style for \"i\" and \"?\" */\n",
       "\n",
       ".sk-estimator-doc-link,\n",
       "a:link.sk-estimator-doc-link,\n",
       "a:visited.sk-estimator-doc-link {\n",
       "  float: right;\n",
       "  font-size: smaller;\n",
       "  line-height: 1em;\n",
       "  font-family: monospace;\n",
       "  background-color: var(--sklearn-color-background);\n",
       "  border-radius: 1em;\n",
       "  height: 1em;\n",
       "  width: 1em;\n",
       "  text-decoration: none !important;\n",
       "  margin-left: 1ex;\n",
       "  /* unfitted */\n",
       "  border: var(--sklearn-color-unfitted-level-1) 1pt solid;\n",
       "  color: var(--sklearn-color-unfitted-level-1);\n",
       "}\n",
       "\n",
       ".sk-estimator-doc-link.fitted,\n",
       "a:link.sk-estimator-doc-link.fitted,\n",
       "a:visited.sk-estimator-doc-link.fitted {\n",
       "  /* fitted */\n",
       "  border: var(--sklearn-color-fitted-level-1) 1pt solid;\n",
       "  color: var(--sklearn-color-fitted-level-1);\n",
       "}\n",
       "\n",
       "/* On hover */\n",
       "div.sk-estimator:hover .sk-estimator-doc-link:hover,\n",
       ".sk-estimator-doc-link:hover,\n",
       "div.sk-label-container:hover .sk-estimator-doc-link:hover,\n",
       ".sk-estimator-doc-link:hover {\n",
       "  /* unfitted */\n",
       "  background-color: var(--sklearn-color-unfitted-level-3);\n",
       "  color: var(--sklearn-color-background);\n",
       "  text-decoration: none;\n",
       "}\n",
       "\n",
       "div.sk-estimator.fitted:hover .sk-estimator-doc-link.fitted:hover,\n",
       ".sk-estimator-doc-link.fitted:hover,\n",
       "div.sk-label-container:hover .sk-estimator-doc-link.fitted:hover,\n",
       ".sk-estimator-doc-link.fitted:hover {\n",
       "  /* fitted */\n",
       "  background-color: var(--sklearn-color-fitted-level-3);\n",
       "  color: var(--sklearn-color-background);\n",
       "  text-decoration: none;\n",
       "}\n",
       "\n",
       "/* Span, style for the box shown on hovering the info icon */\n",
       ".sk-estimator-doc-link span {\n",
       "  display: none;\n",
       "  z-index: 9999;\n",
       "  position: relative;\n",
       "  font-weight: normal;\n",
       "  right: .2ex;\n",
       "  padding: .5ex;\n",
       "  margin: .5ex;\n",
       "  width: min-content;\n",
       "  min-width: 20ex;\n",
       "  max-width: 50ex;\n",
       "  color: var(--sklearn-color-text);\n",
       "  box-shadow: 2pt 2pt 4pt #999;\n",
       "  /* unfitted */\n",
       "  background: var(--sklearn-color-unfitted-level-0);\n",
       "  border: .5pt solid var(--sklearn-color-unfitted-level-3);\n",
       "}\n",
       "\n",
       ".sk-estimator-doc-link.fitted span {\n",
       "  /* fitted */\n",
       "  background: var(--sklearn-color-fitted-level-0);\n",
       "  border: var(--sklearn-color-fitted-level-3);\n",
       "}\n",
       "\n",
       ".sk-estimator-doc-link:hover span {\n",
       "  display: block;\n",
       "}\n",
       "\n",
       "/* \"?\"-specific style due to the `<a>` HTML tag */\n",
       "\n",
       "#sk-container-id-8 a.estimator_doc_link {\n",
       "  float: right;\n",
       "  font-size: 1rem;\n",
       "  line-height: 1em;\n",
       "  font-family: monospace;\n",
       "  background-color: var(--sklearn-color-background);\n",
       "  border-radius: 1rem;\n",
       "  height: 1rem;\n",
       "  width: 1rem;\n",
       "  text-decoration: none;\n",
       "  /* unfitted */\n",
       "  color: var(--sklearn-color-unfitted-level-1);\n",
       "  border: var(--sklearn-color-unfitted-level-1) 1pt solid;\n",
       "}\n",
       "\n",
       "#sk-container-id-8 a.estimator_doc_link.fitted {\n",
       "  /* fitted */\n",
       "  border: var(--sklearn-color-fitted-level-1) 1pt solid;\n",
       "  color: var(--sklearn-color-fitted-level-1);\n",
       "}\n",
       "\n",
       "/* On hover */\n",
       "#sk-container-id-8 a.estimator_doc_link:hover {\n",
       "  /* unfitted */\n",
       "  background-color: var(--sklearn-color-unfitted-level-3);\n",
       "  color: var(--sklearn-color-background);\n",
       "  text-decoration: none;\n",
       "}\n",
       "\n",
       "#sk-container-id-8 a.estimator_doc_link.fitted:hover {\n",
       "  /* fitted */\n",
       "  background-color: var(--sklearn-color-fitted-level-3);\n",
       "}\n",
       "</style><div id=\"sk-container-id-8\" class=\"sk-top-container\"><div class=\"sk-text-repr-fallback\"><pre>RandomizedSearchCV(cv=StratifiedKFold(n_splits=5, random_state=8, shuffle=True),\n",
       "                   estimator=RandomForestClassifier(random_state=8),\n",
       "                   param_distributions={&#x27;max_depth&#x27;: &lt;scipy.stats._distn_infrastructure.rv_discrete_frozen object at 0x000001F8532A9110&gt;,\n",
       "                                        &#x27;max_features&#x27;: &lt;scipy.stats._distn_infrastructure.rv_discrete_frozen object at 0x000001F855ED9450&gt;,\n",
       "                                        &#x27;min_samples_leaf&#x27;: &lt;scipy.stats._distn_infrastructure.rv_discrete_frozen object at 0x000001F855F38ED0&gt;,\n",
       "                                        &#x27;n_estimators&#x27;: &lt;scipy.stats._distn_infrastructure.rv_discrete_frozen object at 0x000001F8530B5050&gt;},\n",
       "                   random_state=8)</pre><b>In a Jupyter environment, please rerun this cell to show the HTML representation or trust the notebook. <br />On GitHub, the HTML representation is unable to render, please try loading this page with nbviewer.org.</b></div><div class=\"sk-container\" hidden><div class=\"sk-item sk-dashed-wrapped\"><div class=\"sk-label-container\"><div class=\"sk-label fitted sk-toggleable\"><input class=\"sk-toggleable__control sk-hidden--visually\" id=\"sk-estimator-id-18\" type=\"checkbox\" ><label for=\"sk-estimator-id-18\" class=\"sk-toggleable__label fitted sk-toggleable__label-arrow fitted\">&nbsp;&nbsp;RandomizedSearchCV<a class=\"sk-estimator-doc-link fitted\" rel=\"noreferrer\" target=\"_blank\" href=\"https://scikit-learn.org/1.5/modules/generated/sklearn.model_selection.RandomizedSearchCV.html\">?<span>Documentation for RandomizedSearchCV</span></a><span class=\"sk-estimator-doc-link fitted\">i<span>Fitted</span></span></label><div class=\"sk-toggleable__content fitted\"><pre>RandomizedSearchCV(cv=StratifiedKFold(n_splits=5, random_state=8, shuffle=True),\n",
       "                   estimator=RandomForestClassifier(random_state=8),\n",
       "                   param_distributions={&#x27;max_depth&#x27;: &lt;scipy.stats._distn_infrastructure.rv_discrete_frozen object at 0x000001F8532A9110&gt;,\n",
       "                                        &#x27;max_features&#x27;: &lt;scipy.stats._distn_infrastructure.rv_discrete_frozen object at 0x000001F855ED9450&gt;,\n",
       "                                        &#x27;min_samples_leaf&#x27;: &lt;scipy.stats._distn_infrastructure.rv_discrete_frozen object at 0x000001F855F38ED0&gt;,\n",
       "                                        &#x27;n_estimators&#x27;: &lt;scipy.stats._distn_infrastructure.rv_discrete_frozen object at 0x000001F8530B5050&gt;},\n",
       "                   random_state=8)</pre></div> </div></div><div class=\"sk-parallel\"><div class=\"sk-parallel-item\"><div class=\"sk-item\"><div class=\"sk-label-container\"><div class=\"sk-label fitted sk-toggleable\"><input class=\"sk-toggleable__control sk-hidden--visually\" id=\"sk-estimator-id-19\" type=\"checkbox\" ><label for=\"sk-estimator-id-19\" class=\"sk-toggleable__label fitted sk-toggleable__label-arrow fitted\">best_estimator_: RandomForestClassifier</label><div class=\"sk-toggleable__content fitted\"><pre>RandomForestClassifier(max_depth=8, max_features=22, min_samples_leaf=15,\n",
       "                       n_estimators=95, random_state=8)</pre></div> </div></div><div class=\"sk-serial\"><div class=\"sk-item\"><div class=\"sk-estimator fitted sk-toggleable\"><input class=\"sk-toggleable__control sk-hidden--visually\" id=\"sk-estimator-id-20\" type=\"checkbox\" ><label for=\"sk-estimator-id-20\" class=\"sk-toggleable__label fitted sk-toggleable__label-arrow fitted\">&nbsp;RandomForestClassifier<a class=\"sk-estimator-doc-link fitted\" rel=\"noreferrer\" target=\"_blank\" href=\"https://scikit-learn.org/1.5/modules/generated/sklearn.ensemble.RandomForestClassifier.html\">?<span>Documentation for RandomForestClassifier</span></a></label><div class=\"sk-toggleable__content fitted\"><pre>RandomForestClassifier(max_depth=8, max_features=22, min_samples_leaf=15,\n",
       "                       n_estimators=95, random_state=8)</pre></div> </div></div></div></div></div></div></div></div></div>"
      ],
      "text/plain": [
       "RandomizedSearchCV(cv=StratifiedKFold(n_splits=5, random_state=8, shuffle=True),\n",
       "                   estimator=RandomForestClassifier(random_state=8),\n",
       "                   param_distributions={'max_depth': <scipy.stats._distn_infrastructure.rv_discrete_frozen object at 0x000001F8532A9110>,\n",
       "                                        'max_features': <scipy.stats._distn_infrastructure.rv_discrete_frozen object at 0x000001F855ED9450>,\n",
       "                                        'min_samples_leaf': <scipy.stats._distn_infrastructure.rv_discrete_frozen object at 0x000001F855F38ED0>,\n",
       "                                        'n_estimators': <scipy.stats._distn_infrastructure.rv_discrete_frozen object at 0x000001F8530B5050>},\n",
       "                   random_state=8)"
      ]
     },
     "execution_count": 273,
     "metadata": {},
     "output_type": "execute_result"
    }
   ],
   "source": [
    "ransearch2.fit(X_train, y_train)"
   ]
  },
  {
   "cell_type": "markdown",
   "id": "02524d01-a477-48cd-9c49-b6dc0d08ccce",
   "metadata": {},
   "source": [
    "**[9.4] Display the best set of parameters**"
   ]
  },
  {
   "cell_type": "code",
   "execution_count": 274,
   "id": "134db2df-7fd9-4836-ac90-40cb25aac97f",
   "metadata": {},
   "outputs": [
    {
     "data": {
      "text/plain": [
       "{'max_depth': 8,\n",
       " 'max_features': 22,\n",
       " 'min_samples_leaf': 15,\n",
       " 'n_estimators': 95}"
      ]
     },
     "execution_count": 274,
     "metadata": {},
     "output_type": "execute_result"
    }
   ],
   "source": [
    "ransearch2.best_params_"
   ]
  },
  {
   "cell_type": "markdown",
   "id": "aa9c980c-580f-420a-beb9-a68f03780ecb",
   "metadata": {},
   "source": [
    "**[9.5] Evaluation metrics for hyperparameters**"
   ]
  },
  {
   "cell_type": "code",
   "execution_count": 275,
   "id": "33d951c4-675e-4dec-8642-250d42b593dc",
   "metadata": {},
   "outputs": [
    {
     "data": {
      "text/plain": [
       "np.float64(0.9958812840702604)"
      ]
     },
     "execution_count": 275,
     "metadata": {},
     "output_type": "execute_result"
    }
   ],
   "source": [
    "ransearch2.best_score_"
   ]
  },
  {
   "cell_type": "code",
   "execution_count": 276,
   "id": "888fa8d5-abbc-4aae-97c1-34c906115e4f",
   "metadata": {},
   "outputs": [
    {
     "name": "stdout",
     "output_type": "stream",
     "text": [
      "RanCV_Train: 0.9972\n",
      "RanCV_val: 0.9969\n"
     ]
    }
   ],
   "source": [
    "print(\"RanCV_Train:\", f'{ransearch2.score(X_train, y_train):.4f}')\n",
    "print(\"RanCV_val:\", f'{ransearch2.score(X_val, y_val):.4f}')"
   ]
  },
  {
   "cell_type": "markdown",
   "id": "b8d6f62e-0a25-4b8a-b800-94e3849e61aa",
   "metadata": {},
   "source": [
    "**[9.6] Make prediction on training and validation data**"
   ]
  },
  {
   "cell_type": "code",
   "execution_count": 277,
   "id": "189d5fc0-84a7-40c6-b1cf-097ba27494bb",
   "metadata": {},
   "outputs": [],
   "source": [
    "y_train_pred = ransearch2.best_estimator_.predict_proba(X_train)[:, 1]\n",
    "y_val_pred = ransearch2.best_estimator_.predict_proba(X_val)[:, 1]"
   ]
  },
  {
   "cell_type": "markdown",
   "id": "997c17b3-d18c-4ef6-b866-4151d9621189",
   "metadata": {},
   "source": [
    "**[9.7] Performance metric - AUROC**"
   ]
  },
  {
   "cell_type": "code",
   "execution_count": 278,
   "id": "988e6882-e2eb-4972-b68e-89714a7f4147",
   "metadata": {},
   "outputs": [],
   "source": [
    "from sklearn.metrics import roc_auc_score, roc_curve, auc"
   ]
  },
  {
   "cell_type": "code",
   "execution_count": 279,
   "id": "e11b6f78-1e14-43dd-b079-ad7952355240",
   "metadata": {},
   "outputs": [
    {
     "name": "stdout",
     "output_type": "stream",
     "text": [
      "Train - AUROC:\n",
      " 0.9993\n",
      "Val - AUROC:\n",
      " 0.9988\n"
     ]
    }
   ],
   "source": [
    "print(\"Train - AUROC:\\n\", f'{roc_auc_score(y_train, y_train_pred):.4f}')\n",
    "print(\"Val - AUROC:\\n\", f'{roc_auc_score(y_val, y_val_pred):.4f}')"
   ]
  },
  {
   "cell_type": "markdown",
   "id": "5087f896-4294-4868-90c3-91c6360c8e55",
   "metadata": {},
   "source": [
    "**Plot the AUROC curve**"
   ]
  },
  {
   "cell_type": "code",
   "execution_count": 280,
   "id": "a5777333-858e-4574-9437-b11a68deb45f",
   "metadata": {},
   "outputs": [
    {
     "data": {
      "image/png": "[encoded data removed]",
      "text/plain": [
       "<Figure size 640x480 with 1 Axes>"
      ]
     },
     "metadata": {},
     "output_type": "display_data"
    }
   ],
   "source": [
    "fpr, tpr, thresholds = roc_curve(y_val, y_val_pred) \n",
    "roc_auc = auc(fpr, tpr)\n",
    "plt.figure()  \n",
    "plt.plot(fpr, tpr, label='Val - ROC curve (area = %0.2f)' % roc_auc)\n",
    "plt.plot([0, 1], [0, 1], 'k--', label='Worst case')\n",
    "plt.xlim([0.0, 1.0])\n",
    "plt.ylim([0.0, 1.05])\n",
    "plt.xlabel('False Positive Rate')\n",
    "plt.ylabel('True Positive Rate')\n",
    "plt.title('(Validation) ROC Curve for NBA Draft')\n",
    "plt.legend()\n",
    "plt.show()"
   ]
  },
  {
   "cell_type": "markdown",
   "id": "f7607f8b-9c13-4714-81a4-7021c9598bb1",
   "metadata": {},
   "source": [
    "**[9.8] Predict on test data**"
   ]
  },
  {
   "cell_type": "code",
   "execution_count": 281,
   "id": "91eae37e-8a07-4e78-8bf1-a782c2754002",
   "metadata": {},
   "outputs": [
    {
     "name": "stdout",
     "output_type": "stream",
     "text": [
      "          drafted\n",
      "count  4970.00000\n",
      "mean      0.00419\n",
      "std       0.04921\n",
      "min       0.00000\n",
      "25%       0.00000\n",
      "50%       0.00000\n",
      "75%       0.00000\n",
      "max       0.93937\n"
     ]
    }
   ],
   "source": [
    "y_test_pred = ransearch2.best_estimator_.predict_proba(X_test)[:, 1]\n",
    "\n",
    "#Dataframe for pred result\n",
    "y_pred = y_test\n",
    "y_pred.loc[:, 'drafted'] = y_test_pred\n",
    "\n",
    "print(y_pred.describe().round(5))\n",
    "\n",
    "y_pred = pd.DataFrame(y_pred)\n",
    "\n",
    "#Save the result to CSV file\n",
    "# y_pred.to_csv('../data/external/at1_pred_week2.4.csv', index=False)"
   ]
  },
  {
   "cell_type": "markdown",
   "id": "1164ba81-e5ca-4d24-942f-735fb46a5042",
   "metadata": {},
   "source": [
    "### 10. Feature Importance"
   ]
  },
  {
   "cell_type": "code",
   "execution_count": 282,
   "id": "1a6b7b8b-ba17-400a-8531-14b99881260f",
   "metadata": {},
   "outputs": [],
   "source": [
    "feature = ransearch2.best_estimator_.feature_importances_"
   ]
  },
  {
   "cell_type": "code",
   "execution_count": 283,
   "id": "826dae5e-6e31-40c7-988c-1919acd895e7",
   "metadata": {},
   "outputs": [],
   "source": [
    "#Dataframe of feature importance\n",
    "feat_imp_rf_df = pd.DataFrame(\n",
    "    {'feature': X_train.columns,\n",
    "     'feature_importance': feature})"
   ]
  },
  {
   "cell_type": "code",
   "execution_count": 284,
   "id": "e668c265-ec0e-4911-8c28-bc408ca3fb01",
   "metadata": {},
   "outputs": [],
   "source": [
    "#Sort the dataframe\n",
    "feat_imp_rf_df = feat_imp_rf_df.sort_values('feature_importance', ascending=False).reset_index(drop=True)\n",
    "# feat_imp_rf_df"
   ]
  },
  {
   "cell_type": "code",
   "execution_count": 285,
   "id": "0bd4569a-d64f-4cb5-8a7a-e886b4610014",
   "metadata": {},
   "outputs": [
    {
     "data": {
      "text/html": [
       "\n",
       "<style>\n",
       "  #altair-viz-55c48324897c41b7aad7a2f6b99d8af4.vega-embed {\n",
       "    width: 100%;\n",
       "    display: flex;\n",
       "  }\n",
       "\n",
       "  #altair-viz-55c48324897c41b7aad7a2f6b99d8af4.vega-embed details,\n",
       "  #altair-viz-55c48324897c41b7aad7a2f6b99d8af4.vega-embed details summary {\n",
       "    position: relative;\n",
       "  }\n",
       "</style>\n",
       "<div id=\"altair-viz-55c48324897c41b7aad7a2f6b99d8af4\"></div>\n",
       "<script type=\"text/javascript\">\n",
       "  var VEGA_DEBUG = (typeof VEGA_DEBUG == \"undefined\") ? {} : VEGA_DEBUG;\n",
       "  (function(spec, embedOpt){\n",
       "    let outputDiv = document.currentScript.previousElementSibling;\n",
       "    if (outputDiv.id !== \"altair-viz-55c48324897c41b7aad7a2f6b99d8af4\") {\n",
       "      outputDiv = document.getElementById(\"altair-viz-55c48324897c41b7aad7a2f6b99d8af4\");\n",
       "    }\n",
       "    const paths = {\n",
       "      \"vega\": \"https://cdn.jsdelivr.net/npm/vega@5?noext\",\n",
       "      \"vega-lib\": \"https://cdn.jsdelivr.net/npm/vega-lib?noext\",\n",
       "      \"vega-lite\": \"https://cdn.jsdelivr.net/npm/vega-lite@5.20.1?noext\",\n",
       "      \"vega-embed\": \"https://cdn.jsdelivr.net/npm/vega-embed@6?noext\",\n",
       "    };\n",
       "\n",
       "    function maybeLoadScript(lib, version) {\n",
       "      var key = `${lib.replace(\"-\", \"\")}_version`;\n",
       "      return (VEGA_DEBUG[key] == version) ?\n",
       "        Promise.resolve(paths[lib]) :\n",
       "        new Promise(function(resolve, reject) {\n",
       "          var s = document.createElement('script');\n",
       "          document.getElementsByTagName(\"head\")[0].appendChild(s);\n",
       "          s.async = true;\n",
       "          s.onload = () => {\n",
       "            VEGA_DEBUG[key] = version;\n",
       "            return resolve(paths[lib]);\n",
       "          };\n",
       "          s.onerror = () => reject(`Error loading script: ${paths[lib]}`);\n",
       "          s.src = paths[lib];\n",
       "        });\n",
       "    }\n",
       "\n",
       "    function showError(err) {\n",
       "      outputDiv.innerHTML = `<div class=\"error\" style=\"color:red;\">${err}</div>`;\n",
       "      throw err;\n",
       "    }\n",
       "\n",
       "    function displayChart(vegaEmbed) {\n",
       "      vegaEmbed(outputDiv, spec, embedOpt)\n",
       "        .catch(err => showError(`Javascript Error: ${err.message}<br>This usually means there's a typo in your chart specification. See the javascript console for the full traceback.`));\n",
       "    }\n",
       "\n",
       "    if(typeof define === \"function\" && define.amd) {\n",
       "      requirejs.config({paths});\n",
       "      require([\"vega-embed\"], displayChart, err => showError(`Error loading script: ${err.message}`));\n",
       "    } else {\n",
       "      maybeLoadScript(\"vega\", \"5\")\n",
       "        .then(() => maybeLoadScript(\"vega-lite\", \"5.20.1\"))\n",
       "        .then(() => maybeLoadScript(\"vega-embed\", \"6\"))\n",
       "        .catch(showError)\n",
       "        .then(() => displayChart(vegaEmbed));\n",
       "    }\n",
       "  })({\"config\": {\"view\": {\"continuousWidth\": 300, \"continuousHeight\": 300}}, \"data\": {\"name\": \"data-eed5128030590942ebba2aff09ac651a\"}, \"mark\": {\"type\": \"bar\"}, \"encoding\": {\"tooltip\": [{\"field\": \"feature\", \"type\": \"nominal\"}, {\"field\": \"feature_importance\", \"type\": \"quantitative\"}], \"x\": {\"field\": \"feature_importance\", \"type\": \"quantitative\"}, \"y\": {\"field\": \"feature\", \"sort\": \"-x\", \"type\": \"nominal\"}}, \"$schema\": \"https://vega.github.io/schema/vega-lite/v5.20.1.json\", \"datasets\": {\"data-eed5128030590942ebba2aff09ac651a\": [{\"feature\": \"Picked\", \"feature_importance\": 0.2772389330428535}, {\"feature\": \"pick\", \"feature_importance\": 0.20493787433249008}, {\"feature\": \"yr_Sr\", \"feature_importance\": 0.11830503238955838}, {\"feature\": \"pts\", \"feature_importance\": 0.09267447711133119}, {\"feature\": \"Rec_Rank\", \"feature_importance\": 0.06168057451241874}, {\"feature\": \"porpag\", \"feature_importance\": 0.04456284794766701}, {\"feature\": \"twoPA\", \"feature_importance\": 0.04254698250886244}, {\"feature\": \"dporpag\", \"feature_importance\": 0.03785982857362863}, {\"feature\": \"stops\", \"feature_importance\": 0.014864540706340648}, {\"feature\": \"adjoe\", \"feature_importance\": 0.011149058940550547}, {\"feature\": \"FTA\", \"feature_importance\": 0.009048787877506792}, {\"feature\": \"twoPM\", \"feature_importance\": 0.008098642309019017}, {\"feature\": \"rimmade_rimmiss\", \"feature_importance\": 0.007139547216726912}, {\"feature\": \"bpm\", \"feature_importance\": 0.006889750588840278}, {\"feature\": \"twoP_per\", \"feature_importance\": 0.006368390997988891}, {\"feature\": \"dunksmade\", \"feature_importance\": 0.00600920282386946}, {\"feature\": \"gbpm\", \"feature_importance\": 0.005470532496781293}, {\"feature\": \"dunksmiss_dunksmade\", \"feature_importance\": 0.005166306133430523}, {\"feature\": \"TP_per\", \"feature_importance\": 0.004902075909793493}, {\"feature\": \"obpm\", \"feature_importance\": 0.0046621182729602315}, {\"feature\": \"mp\", \"feature_importance\": 0.004432325716282339}, {\"feature\": \"rimmade\", \"feature_importance\": 0.004138856751205046}, {\"feature\": \"usg\", \"feature_importance\": 0.004014207654332681}, {\"feature\": \"TPM\", \"feature_importance\": 0.003995938150660186}, {\"feature\": \"midmade_midmiss\", \"feature_importance\": 0.0039045325242101627}, {\"feature\": \"FTM\", \"feature_importance\": 0.0031560499415992393}, {\"feature\": \"dbpm\", \"feature_importance\": 0.002917178920444068}, {\"feature\": \"ogbpm\", \"feature_importance\": 0.0029123396648187637}, {\"feature\": \"yr_Jr\", \"feature_importance\": 0.0006647471884024377}, {\"feature\": \"yr_So\", \"feature_importance\": 0.000288318795426896}]}}, {\"mode\": \"vega-lite\"});\n",
       "</script>"
      ],
      "text/plain": [
       "alt.Chart(...)"
      ]
     },
     "execution_count": 285,
     "metadata": {},
     "output_type": "execute_result"
    }
   ],
   "source": [
    "#Visualize the feature importance\n",
    "alt.Chart(feat_imp_rf_df).mark_bar().encode(\n",
    "    x='feature_importance',\n",
    "    y=alt.Y(\"feature\", sort='-x'),\n",
    "    tooltip=['feature','feature_importance']\n",
    ")"
   ]
  }
 ],
 "metadata": {
  "kernelspec": {
   "display_name": "Python 3 (ipykernel)",
   "language": "python",
   "name": "python3"
  },
  "language_info": {
   "codemirror_mode": {
    "name": "ipython",
    "version": 3
   },
   "file_extension": ".py",
   "mimetype": "text/x-python",
   "name": "python",
   "nbconvert_exporter": "python",
   "pygments_lexer": "ipython3",
   "version": "3.11.4"
  }
 },
 "nbformat": 4,
 "nbformat_minor": 5
}
